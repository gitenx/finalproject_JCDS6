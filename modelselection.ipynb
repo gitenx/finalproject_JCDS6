{
 "cells": [
  {
   "cell_type": "code",
   "execution_count": 1,
   "metadata": {
    "ExecuteTime": {
     "end_time": "2019-11-14T06:46:20.991051Z",
     "start_time": "2019-11-14T06:46:16.954915Z"
    }
   },
   "outputs": [],
   "source": [
    "import pandas as pd\n",
    "import numpy as np\n",
    "import matplotlib.pyplot as plt\n",
    "import seaborn as sns\n",
    "import warnings\n",
    "\n",
    "%matplotlib inline\n",
    "sns.set_style('darkgrid')\n",
    "warnings.filterwarnings('ignore')"
   ]
  },
  {
   "cell_type": "code",
   "execution_count": 2,
   "metadata": {
    "ExecuteTime": {
     "end_time": "2019-11-14T06:46:29.578031Z",
     "start_time": "2019-11-14T06:46:29.566029Z"
    }
   },
   "outputs": [],
   "source": [
    "df = pd.read_csv('data/indian_liver_patient_cleaned.csv')"
   ]
  },
  {
   "cell_type": "code",
   "execution_count": 3,
   "metadata": {
    "ExecuteTime": {
     "end_time": "2019-11-14T06:46:33.139266Z",
     "start_time": "2019-11-14T06:46:33.125342Z"
    }
   },
   "outputs": [
    {
     "data": {
      "text/html": [
       "<div>\n",
       "<style scoped>\n",
       "    .dataframe tbody tr th:only-of-type {\n",
       "        vertical-align: middle;\n",
       "    }\n",
       "\n",
       "    .dataframe tbody tr th {\n",
       "        vertical-align: top;\n",
       "    }\n",
       "\n",
       "    .dataframe thead th {\n",
       "        text-align: right;\n",
       "    }\n",
       "</style>\n",
       "<table border=\"1\" class=\"dataframe\">\n",
       "  <thead>\n",
       "    <tr style=\"text-align: right;\">\n",
       "      <th></th>\n",
       "      <th>Age</th>\n",
       "      <th>Gender</th>\n",
       "      <th>Total_Bilirubin</th>\n",
       "      <th>Direct_Bilirubin</th>\n",
       "      <th>Alkaline_Phosphotase</th>\n",
       "      <th>Alamine_Aminotransferase</th>\n",
       "      <th>Aspartate_Aminotransferase</th>\n",
       "      <th>Total_Protiens</th>\n",
       "      <th>Albumin</th>\n",
       "      <th>Albumin_and_Globulin_Ratio</th>\n",
       "      <th>Dataset</th>\n",
       "    </tr>\n",
       "  </thead>\n",
       "  <tbody>\n",
       "    <tr>\n",
       "      <th>0</th>\n",
       "      <td>65</td>\n",
       "      <td>1</td>\n",
       "      <td>0.7</td>\n",
       "      <td>0.1</td>\n",
       "      <td>187</td>\n",
       "      <td>16</td>\n",
       "      <td>18</td>\n",
       "      <td>6.8</td>\n",
       "      <td>3.3</td>\n",
       "      <td>0.90</td>\n",
       "      <td>1</td>\n",
       "    </tr>\n",
       "    <tr>\n",
       "      <th>1</th>\n",
       "      <td>62</td>\n",
       "      <td>0</td>\n",
       "      <td>10.9</td>\n",
       "      <td>5.5</td>\n",
       "      <td>699</td>\n",
       "      <td>64</td>\n",
       "      <td>100</td>\n",
       "      <td>7.5</td>\n",
       "      <td>3.2</td>\n",
       "      <td>0.74</td>\n",
       "      <td>1</td>\n",
       "    </tr>\n",
       "    <tr>\n",
       "      <th>2</th>\n",
       "      <td>62</td>\n",
       "      <td>0</td>\n",
       "      <td>7.3</td>\n",
       "      <td>4.1</td>\n",
       "      <td>490</td>\n",
       "      <td>60</td>\n",
       "      <td>68</td>\n",
       "      <td>7.0</td>\n",
       "      <td>3.3</td>\n",
       "      <td>0.89</td>\n",
       "      <td>1</td>\n",
       "    </tr>\n",
       "    <tr>\n",
       "      <th>3</th>\n",
       "      <td>58</td>\n",
       "      <td>0</td>\n",
       "      <td>1.0</td>\n",
       "      <td>0.4</td>\n",
       "      <td>182</td>\n",
       "      <td>14</td>\n",
       "      <td>20</td>\n",
       "      <td>6.8</td>\n",
       "      <td>3.4</td>\n",
       "      <td>1.00</td>\n",
       "      <td>1</td>\n",
       "    </tr>\n",
       "    <tr>\n",
       "      <th>4</th>\n",
       "      <td>72</td>\n",
       "      <td>0</td>\n",
       "      <td>3.9</td>\n",
       "      <td>2.0</td>\n",
       "      <td>195</td>\n",
       "      <td>27</td>\n",
       "      <td>59</td>\n",
       "      <td>7.3</td>\n",
       "      <td>2.4</td>\n",
       "      <td>0.40</td>\n",
       "      <td>1</td>\n",
       "    </tr>\n",
       "  </tbody>\n",
       "</table>\n",
       "</div>"
      ],
      "text/plain": [
       "   Age  Gender  Total_Bilirubin  Direct_Bilirubin  Alkaline_Phosphotase  \\\n",
       "0   65       1              0.7               0.1                   187   \n",
       "1   62       0             10.9               5.5                   699   \n",
       "2   62       0              7.3               4.1                   490   \n",
       "3   58       0              1.0               0.4                   182   \n",
       "4   72       0              3.9               2.0                   195   \n",
       "\n",
       "   Alamine_Aminotransferase  Aspartate_Aminotransferase  Total_Protiens  \\\n",
       "0                        16                          18             6.8   \n",
       "1                        64                         100             7.5   \n",
       "2                        60                          68             7.0   \n",
       "3                        14                          20             6.8   \n",
       "4                        27                          59             7.3   \n",
       "\n",
       "   Albumin  Albumin_and_Globulin_Ratio  Dataset  \n",
       "0      3.3                        0.90        1  \n",
       "1      3.2                        0.74        1  \n",
       "2      3.3                        0.89        1  \n",
       "3      3.4                        1.00        1  \n",
       "4      2.4                        0.40        1  "
      ]
     },
     "execution_count": 3,
     "metadata": {},
     "output_type": "execute_result"
    }
   ],
   "source": [
    "df.head()"
   ]
  },
  {
   "cell_type": "code",
   "execution_count": 4,
   "metadata": {
    "ExecuteTime": {
     "end_time": "2019-11-14T06:53:43.306405Z",
     "start_time": "2019-11-14T06:53:43.302427Z"
    }
   },
   "outputs": [],
   "source": [
    "x = df.drop('Dataset', axis=1)\n",
    "y = df['Dataset']"
   ]
  },
  {
   "cell_type": "code",
   "execution_count": 82,
   "metadata": {
    "ExecuteTime": {
     "end_time": "2019-11-14T08:25:00.499827Z",
     "start_time": "2019-11-14T08:25:00.490799Z"
    }
   },
   "outputs": [],
   "source": [
    "# splitting & scalling\n",
    "\n",
    "from sklearn.model_selection import train_test_split\n",
    "from sklearn.preprocessing import MinMaxScaler\n",
    "\n",
    "X_train, X_test, y_train, y_test = train_test_split(x, y, test_size=0.2, random_state=10)\n",
    "\n",
    "scaler = MinMaxScaler()\n",
    "X_train_scaled = scaler.fit_transform(X_train)\n",
    "X_test_scaled = scaler.transform(X_test)"
   ]
  },
  {
   "cell_type": "markdown",
   "metadata": {},
   "source": [
    "### model selection"
   ]
  },
  {
   "cell_type": "code",
   "execution_count": 95,
   "metadata": {
    "ExecuteTime": {
     "end_time": "2019-11-14T11:08:43.078626Z",
     "start_time": "2019-11-14T11:08:43.074626Z"
    }
   },
   "outputs": [],
   "source": [
    "from sklearn.linear_model import LogisticRegression\n",
    "from sklearn.neighbors import KNeighborsClassifier\n",
    "from sklearn.ensemble import RandomForestClassifier\n",
    "from sklearn.metrics import precision_score, f1_score, recall_score\n",
    "from sklearn.model_selection import GridSearchCV, KFold, cross_val_score"
   ]
  },
  {
   "cell_type": "markdown",
   "metadata": {},
   "source": [
    "#### logistic regression"
   ]
  },
  {
   "cell_type": "code",
   "execution_count": 106,
   "metadata": {
    "ExecuteTime": {
     "end_time": "2019-11-14T11:14:15.697469Z",
     "start_time": "2019-11-14T11:14:15.681470Z"
    }
   },
   "outputs": [
    {
     "name": "stdout",
     "output_type": "stream",
     "text": [
      "Logistic Regression Classifier on unscaled test data:\n",
      "Accuracy: 0.7280701754385965\n",
      "Precision: 0.75\n",
      "Recall: 0.9529411764705882\n",
      "F-1 score: 0.8393782383419688\n"
     ]
    }
   ],
   "source": [
    "# using unscaled data\n",
    "model_lr = LogisticRegression(C=0.1, penalty='l1')\n",
    "\n",
    "model_lr.fit(X_train, y_train)\n",
    "print('Logistic Regression Classifier on unscaled test data:')\n",
    "print('Accuracy:', model_lr.score(X_test, y_test))\n",
    "print('Precision:', precision_score(y_test, model_lr.predict(X_test)))\n",
    "print('Recall:', recall_score(y_test, model_lr.predict(X_test)))\n",
    "print('F-1 score:', f1_score(y_test, model_lr.predict(X_test)))"
   ]
  },
  {
   "cell_type": "code",
   "execution_count": 107,
   "metadata": {
    "ExecuteTime": {
     "end_time": "2019-11-14T11:14:18.240540Z",
     "start_time": "2019-11-14T11:14:18.217517Z"
    }
   },
   "outputs": [
    {
     "name": "stdout",
     "output_type": "stream",
     "text": [
      "[0.69565217 0.7032967  0.71428571 0.67032967 0.73626374]\n",
      "Accuracy:  70.39655996177736\n"
     ]
    }
   ],
   "source": [
    "kfold = KFold(n_splits=5,random_state=42)\n",
    "logmodel = LogisticRegression(C=0.1, penalty='l1')\n",
    "results = cross_val_score(logmodel, X_train,y_train,cv=kfold)\n",
    "print(results)\n",
    "print('Accuracy: ',results.mean()*100)"
   ]
  },
  {
   "cell_type": "code",
   "execution_count": 108,
   "metadata": {
    "ExecuteTime": {
     "end_time": "2019-11-14T11:14:20.227981Z",
     "start_time": "2019-11-14T11:14:20.215975Z"
    }
   },
   "outputs": [
    {
     "name": "stdout",
     "output_type": "stream",
     "text": [
      "Logistic Regression Classifier on scaled test data:\n",
      "Accuracy: 0.7456140350877193\n",
      "Precision: 0.7456140350877193\n",
      "Recall: 1.0\n",
      "F-1 score: 0.8542713567839196\n"
     ]
    }
   ],
   "source": [
    "# using scaled data\n",
    "model_lr_scaled = LogisticRegression(C=0.1, penalty='l1')\n",
    "\n",
    "model_lr_scaled.fit(X_train_scaled, y_train)\n",
    "print('Logistic Regression Classifier on scaled test data:')\n",
    "print('Accuracy:', model_lr_scaled.score(X_test_scaled, y_test))\n",
    "print('Precision:', precision_score(y_test, model_lr_scaled.predict(X_test_scaled)))\n",
    "print('Recall:', recall_score(y_test, model_lr_scaled.predict(X_test_scaled)))\n",
    "print('F-1 score:', f1_score(y_test, model_lr_scaled.predict(X_test_scaled)))"
   ]
  },
  {
   "cell_type": "code",
   "execution_count": 99,
   "metadata": {
    "ExecuteTime": {
     "end_time": "2019-11-14T11:10:07.599539Z",
     "start_time": "2019-11-14T11:10:07.586515Z"
    }
   },
   "outputs": [
    {
     "name": "stdout",
     "output_type": "stream",
     "text": [
      "[0.75       0.68131868 0.67032967 0.71428571 0.7032967 ]\n",
      "Accuracy:  70.38461538461539\n"
     ]
    }
   ],
   "source": [
    "kfold = KFold(n_splits=5,random_state=42)\n",
    "logmodel = LogisticRegression(C=0.1, penalty='l1')\n",
    "results = cross_val_score(logmodel, X_train_scaled, y_train,cv=kfold)\n",
    "print(results)\n",
    "print('Accuracy: ',results.mean()*100)"
   ]
  },
  {
   "cell_type": "code",
   "execution_count": null,
   "metadata": {},
   "outputs": [],
   "source": []
  },
  {
   "cell_type": "code",
   "execution_count": null,
   "metadata": {},
   "outputs": [],
   "source": []
  },
  {
   "cell_type": "markdown",
   "metadata": {},
   "source": [
    "#### random forest classifier"
   ]
  },
  {
   "cell_type": "code",
   "execution_count": 85,
   "metadata": {
    "ExecuteTime": {
     "end_time": "2019-11-14T08:25:06.905456Z",
     "start_time": "2019-11-14T08:25:06.860427Z"
    }
   },
   "outputs": [
    {
     "name": "stdout",
     "output_type": "stream",
     "text": [
      "Random Forest Classifier on unscaled test data:\n",
      "Accuracy: 0.7105263157894737\n",
      "Precision: 0.8095238095238095\n",
      "Recall: 0.8\n",
      "F-1 score: 0.8047337278106509\n"
     ]
    }
   ],
   "source": [
    "# using unscaled data\n",
    "rfc = RandomForestClassifier(n_estimators = 20)\n",
    "\n",
    "rfc.fit(X_train, y_train)\n",
    "print('Random Forest Classifier on unscaled test data:')\n",
    "print('Accuracy:', rfc.score(X_test, y_test))\n",
    "print('Precision:', precision_score(y_test, rfc.predict(X_test)))\n",
    "print('Recall:', recall_score(y_test, rfc.predict(X_test)))\n",
    "print('F-1 score:', f1_score(y_test, rfc.predict(X_test)))"
   ]
  },
  {
   "cell_type": "code",
   "execution_count": 100,
   "metadata": {
    "ExecuteTime": {
     "end_time": "2019-11-14T11:11:26.632929Z",
     "start_time": "2019-11-14T11:11:26.500937Z"
    }
   },
   "outputs": [
    {
     "name": "stdout",
     "output_type": "stream",
     "text": [
      "[0.70652174 0.69230769 0.74725275 0.7032967  0.72527473]\n",
      "Accuracy:  71.49307214524606\n"
     ]
    }
   ],
   "source": [
    "kfold = KFold(n_splits=5,random_state=42)\n",
    "rfc_ = RandomForestClassifier(n_estimators = 20)\n",
    "results = cross_val_score(rfc_, X_train,y_train,cv=kfold)\n",
    "print(results)\n",
    "print('Accuracy: ',results.mean()*100)"
   ]
  },
  {
   "cell_type": "code",
   "execution_count": 86,
   "metadata": {
    "ExecuteTime": {
     "end_time": "2019-11-14T08:25:08.340069Z",
     "start_time": "2019-11-14T08:25:08.299044Z"
    }
   },
   "outputs": [
    {
     "name": "stdout",
     "output_type": "stream",
     "text": [
      "Random Forest Classifier on scaled test data:\n",
      "Accuracy: 0.6842105263157895\n",
      "Precision: 0.8024691358024691\n",
      "Recall: 0.7647058823529411\n",
      "F-1 score: 0.7831325301204819\n"
     ]
    }
   ],
   "source": [
    "# using scaled data\n",
    "rfc_scaled = RandomForestClassifier(n_estimators = 20)\n",
    "\n",
    "rfc_scaled.fit(X_train_scaled, y_train)\n",
    "print('Random Forest Classifier on scaled test data:')\n",
    "print('Accuracy:', rfc_scaled.score(X_test_scaled, y_test))\n",
    "print('Precision:', precision_score(y_test, rfc_scaled.predict(X_test_scaled)))\n",
    "print('Recall:', recall_score(y_test, rfc_scaled.predict(X_test_scaled)))\n",
    "print('F-1 score:', f1_score(y_test, rfc_scaled.predict(X_test_scaled)))"
   ]
  },
  {
   "cell_type": "code",
   "execution_count": 101,
   "metadata": {
    "ExecuteTime": {
     "end_time": "2019-11-14T11:11:56.096146Z",
     "start_time": "2019-11-14T11:11:55.958153Z"
    }
   },
   "outputs": [
    {
     "name": "stdout",
     "output_type": "stream",
     "text": [
      "[0.7173913  0.73626374 0.72527473 0.71428571 0.68131868]\n",
      "Accuracy:  71.49068322981368\n"
     ]
    }
   ],
   "source": [
    "kfold = KFold(n_splits=5,random_state=42)\n",
    "rfc_ = RandomForestClassifier(n_estimators = 20)\n",
    "results = cross_val_score(rfc_, X_train_scaled, y_train,cv=kfold)\n",
    "print(results)\n",
    "print('Accuracy: ',results.mean()*100)"
   ]
  },
  {
   "cell_type": "code",
   "execution_count": null,
   "metadata": {},
   "outputs": [],
   "source": []
  },
  {
   "cell_type": "code",
   "execution_count": null,
   "metadata": {},
   "outputs": [],
   "source": []
  },
  {
   "cell_type": "markdown",
   "metadata": {},
   "source": [
    "#### KNN"
   ]
  },
  {
   "cell_type": "code",
   "execution_count": 87,
   "metadata": {
    "ExecuteTime": {
     "end_time": "2019-11-14T08:25:09.861877Z",
     "start_time": "2019-11-14T08:25:09.835877Z"
    }
   },
   "outputs": [
    {
     "name": "stdout",
     "output_type": "stream",
     "text": [
      "k-NN Classifier on unscaled test data:\n",
      "Accuracy: 0.6754385964912281\n",
      "Precision: 0.7926829268292683\n",
      "Recall: 0.7647058823529411\n",
      "F-1 score: 0.7784431137724551\n"
     ]
    }
   ],
   "source": [
    "# using unscaled data\n",
    "knn = KNeighborsClassifier(n_neighbors = 5)\n",
    "\n",
    "knn.fit(X_train, y_train)\n",
    "print('k-NN Classifier on unscaled test data:')\n",
    "print('Accuracy:', knn.score(X_test, y_test))\n",
    "print('Precision:', precision_score(y_test, knn.predict(X_test)))\n",
    "print('Recall:', recall_score(y_test, knn.predict(X_test)))\n",
    "print('F-1 score:', f1_score(y_test, knn.predict(X_test)))"
   ]
  },
  {
   "cell_type": "code",
   "execution_count": 104,
   "metadata": {
    "ExecuteTime": {
     "end_time": "2019-11-14T11:13:53.521439Z",
     "start_time": "2019-11-14T11:13:53.489500Z"
    }
   },
   "outputs": [
    {
     "name": "stdout",
     "output_type": "stream",
     "text": [
      "[0.70652174 0.71428571 0.68131868 0.68131868 0.71428571]\n",
      "Accuracy:  69.95461060678453\n"
     ]
    }
   ],
   "source": [
    "kfold = KFold(n_splits=5,random_state=42)\n",
    "knn_ = KNeighborsClassifier(n_neighbors = 5)\n",
    "results = cross_val_score(knn_, X_train,y_train,cv=kfold)\n",
    "print(results)\n",
    "print('Accuracy: ',results.mean()*100)"
   ]
  },
  {
   "cell_type": "code",
   "execution_count": 88,
   "metadata": {
    "ExecuteTime": {
     "end_time": "2019-11-14T08:25:11.182400Z",
     "start_time": "2019-11-14T08:25:11.155399Z"
    }
   },
   "outputs": [
    {
     "name": "stdout",
     "output_type": "stream",
     "text": [
      "k-NN Classifier on scaled test data:\n",
      "Accuracy: 0.6666666666666666\n",
      "Precision: 0.7701149425287356\n",
      "Recall: 0.788235294117647\n",
      "F-1 score: 0.7790697674418604\n"
     ]
    }
   ],
   "source": [
    "# using scaled data\n",
    "knn_scaled = KNeighborsClassifier(n_neighbors = 5)\n",
    "\n",
    "knn_scaled.fit(X_train_scaled, y_train)\n",
    "print('k-NN Classifier on scaled test data:')\n",
    "print('Accuracy:', knn_scaled.score(X_test_scaled, y_test))\n",
    "print('Precision:', precision_score(y_test, knn_scaled.predict(X_test_scaled)))\n",
    "print('Recall:', recall_score(y_test, knn_scaled.predict(X_test_scaled)))\n",
    "print('F-1 score:', f1_score(y_test, knn_scaled.predict(X_test_scaled)))"
   ]
  },
  {
   "cell_type": "code",
   "execution_count": 103,
   "metadata": {
    "ExecuteTime": {
     "end_time": "2019-11-14T11:13:50.150799Z",
     "start_time": "2019-11-14T11:13:50.121824Z"
    }
   },
   "outputs": [
    {
     "name": "stdout",
     "output_type": "stream",
     "text": [
      "[0.66304348 0.64835165 0.64835165 0.67032967 0.65934066]\n",
      "Accuracy:  65.78834209268992\n"
     ]
    }
   ],
   "source": [
    "kfold = KFold(n_splits=5,random_state=42)\n",
    "knn_ = KNeighborsClassifier(n_neighbors = 5)\n",
    "results = cross_val_score(knn_, X_train_scaled, y_train,cv=kfold)\n",
    "print(results)\n",
    "print('Accuracy: ',results.mean()*100)"
   ]
  },
  {
   "cell_type": "code",
   "execution_count": null,
   "metadata": {},
   "outputs": [],
   "source": []
  },
  {
   "cell_type": "markdown",
   "metadata": {},
   "source": [
    "#### comparing model"
   ]
  },
  {
   "cell_type": "code",
   "execution_count": 109,
   "metadata": {
    "ExecuteTime": {
     "end_time": "2019-11-14T11:14:36.566775Z",
     "start_time": "2019-11-14T11:14:36.495758Z"
    }
   },
   "outputs": [
    {
     "data": {
      "text/html": [
       "<div>\n",
       "<style scoped>\n",
       "    .dataframe tbody tr th:only-of-type {\n",
       "        vertical-align: middle;\n",
       "    }\n",
       "\n",
       "    .dataframe tbody tr th {\n",
       "        vertical-align: top;\n",
       "    }\n",
       "\n",
       "    .dataframe thead th {\n",
       "        text-align: right;\n",
       "    }\n",
       "</style>\n",
       "<table border=\"1\" class=\"dataframe\">\n",
       "  <thead>\n",
       "    <tr style=\"text-align: right;\">\n",
       "      <th></th>\n",
       "      <th>model</th>\n",
       "      <th>Accuracy</th>\n",
       "      <th>Precision</th>\n",
       "      <th>Recall</th>\n",
       "      <th>F-1 score</th>\n",
       "    </tr>\n",
       "  </thead>\n",
       "  <tbody>\n",
       "    <tr>\n",
       "      <th>0</th>\n",
       "      <td>model_lr</td>\n",
       "      <td>0.728070</td>\n",
       "      <td>0.750000</td>\n",
       "      <td>0.952941</td>\n",
       "      <td>0.839378</td>\n",
       "    </tr>\n",
       "    <tr>\n",
       "      <th>1</th>\n",
       "      <td>model_lr_scaled</td>\n",
       "      <td>0.745614</td>\n",
       "      <td>0.745614</td>\n",
       "      <td>1.000000</td>\n",
       "      <td>0.854271</td>\n",
       "    </tr>\n",
       "    <tr>\n",
       "      <th>2</th>\n",
       "      <td>rfc</td>\n",
       "      <td>0.710526</td>\n",
       "      <td>0.809524</td>\n",
       "      <td>0.800000</td>\n",
       "      <td>0.804734</td>\n",
       "    </tr>\n",
       "    <tr>\n",
       "      <th>3</th>\n",
       "      <td>rfc_scaled</td>\n",
       "      <td>0.684211</td>\n",
       "      <td>0.802469</td>\n",
       "      <td>0.764706</td>\n",
       "      <td>0.783133</td>\n",
       "    </tr>\n",
       "    <tr>\n",
       "      <th>4</th>\n",
       "      <td>knn</td>\n",
       "      <td>0.675439</td>\n",
       "      <td>0.792683</td>\n",
       "      <td>0.764706</td>\n",
       "      <td>0.778443</td>\n",
       "    </tr>\n",
       "    <tr>\n",
       "      <th>5</th>\n",
       "      <td>knn_scaled</td>\n",
       "      <td>0.666667</td>\n",
       "      <td>0.770115</td>\n",
       "      <td>0.788235</td>\n",
       "      <td>0.779070</td>\n",
       "    </tr>\n",
       "  </tbody>\n",
       "</table>\n",
       "</div>"
      ],
      "text/plain": [
       "             model  Accuracy  Precision    Recall  F-1 score\n",
       "0         model_lr  0.728070   0.750000  0.952941   0.839378\n",
       "1  model_lr_scaled  0.745614   0.745614  1.000000   0.854271\n",
       "2              rfc  0.710526   0.809524  0.800000   0.804734\n",
       "3       rfc_scaled  0.684211   0.802469  0.764706   0.783133\n",
       "4              knn  0.675439   0.792683  0.764706   0.778443\n",
       "5       knn_scaled  0.666667   0.770115  0.788235   0.779070"
      ]
     },
     "execution_count": 109,
     "metadata": {},
     "output_type": "execute_result"
    }
   ],
   "source": [
    "a = [['model_lr',model_lr.score(X_test, y_test),precision_score(y_test, model_lr.predict(X_test)), recall_score(y_test, model_lr.predict(X_test)),f1_score(y_test, model_lr.predict(X_test))], ['model_lr_scaled',model_lr_scaled.score(X_test_scaled, y_test),precision_score(y_test, model_lr_scaled.predict(X_test_scaled)),recall_score(y_test, model_lr_scaled.predict(X_test_scaled)),f1_score(y_test, model_lr_scaled.predict(X_test_scaled))], ['rfc', rfc.score(X_test, y_test),precision_score(y_test, rfc.predict(X_test)),recall_score(y_test, rfc.predict(X_test)),f1_score(y_test, rfc.predict(X_test))], ['rfc_scaled',rfc_scaled.score(X_test_scaled, y_test), precision_score(y_test, rfc_scaled.predict(X_test_scaled)),recall_score(y_test, rfc_scaled.predict(X_test_scaled)), f1_score(y_test, rfc_scaled.predict(X_test_scaled)) ], ['knn', knn.score(X_test, y_test), precision_score(y_test, knn.predict(X_test)),recall_score(y_test, knn.predict(X_test)), f1_score(y_test, knn.predict(X_test))], ['knn_scaled',knn_scaled.score(X_test_scaled, y_test), precision_score(y_test, knn_scaled.predict(X_test_scaled)),recall_score(y_test, knn_scaled.predict(X_test_scaled)), f1_score(y_test, knn_scaled.predict(X_test_scaled))]]\n",
    "\n",
    "dfcompare = pd.DataFrame(a, columns=['model', 'Accuracy','Precision','Recall','F-1 score'])\n",
    "dfcompare\n"
   ]
  },
  {
   "cell_type": "markdown",
   "metadata": {},
   "source": [
    "Dari pengujian tersebut saya memutuskan untuk memilih menggunakan Logistic Regression dengan scaled data. Berikutnya adalah untuk mencari best param dari model ini menggunakan GridSearch"
   ]
  },
  {
   "cell_type": "code",
   "execution_count": 152,
   "metadata": {
    "ExecuteTime": {
     "end_time": "2019-11-14T11:48:13.344859Z",
     "start_time": "2019-11-14T11:48:13.189223Z"
    }
   },
   "outputs": [],
   "source": [
    "logistic = LogisticRegression()\n",
    "hyperparameters = {'C': [0.001, 0.01, 0.1, 1, 10, 100, 1000],\n",
    "                   'max_iter':[100,500,1000]}\n",
    "\n",
    "clf = GridSearchCV(logistic, hyperparameters, cv=5)\n",
    "    \n",
    "best_clf = clf.fit(X_train_scaled, y_train)"
   ]
  },
  {
   "cell_type": "code",
   "execution_count": 154,
   "metadata": {
    "ExecuteTime": {
     "end_time": "2019-11-14T11:48:35.192473Z",
     "start_time": "2019-11-14T11:48:35.188496Z"
    }
   },
   "outputs": [
    {
     "name": "stdout",
     "output_type": "stream",
     "text": [
      "Best Penalty: l2\n",
      "Best C: 100\n",
      "Best Max_iter: 100\n"
     ]
    }
   ],
   "source": [
    "print('Best Penalty:', best_clf.best_estimator_.get_params()['penalty'])\n",
    "print('Best C:', best_clf.best_estimator_.get_params()['C'])\n",
    "print('Best Max_iter:', best_clf.best_estimator_.get_params()['max_iter'])"
   ]
  },
  {
   "cell_type": "code",
   "execution_count": 155,
   "metadata": {
    "ExecuteTime": {
     "end_time": "2019-11-14T11:48:54.853890Z",
     "start_time": "2019-11-14T11:48:54.841915Z"
    }
   },
   "outputs": [
    {
     "name": "stdout",
     "output_type": "stream",
     "text": [
      "Logistic Regression Classifier on scaled test data:\n",
      "Accuracy: 0.7543859649122807\n",
      "Precision: 0.7878787878787878\n",
      "Recall: 0.9176470588235294\n",
      "F-1 score: 0.8478260869565216\n"
     ]
    }
   ],
   "source": [
    "# using scaled data\n",
    "model_lr_scaled = LogisticRegression(C=100, penalty='l2', max_iter=100)\n",
    "\n",
    "model_lr_scaled.fit(X_train_scaled, y_train)\n",
    "print('Logistic Regression Classifier on scaled test data:')\n",
    "print('Accuracy:', model_lr_scaled.score(X_test_scaled, y_test))\n",
    "print('Precision:', precision_score(y_test, model_lr_scaled.predict(X_test_scaled)))\n",
    "print('Recall:', recall_score(y_test, model_lr_scaled.predict(X_test_scaled)))\n",
    "print('F-1 score:', f1_score(y_test, model_lr_scaled.predict(X_test_scaled)))"
   ]
  },
  {
   "cell_type": "code",
   "execution_count": 156,
   "metadata": {
    "ExecuteTime": {
     "end_time": "2019-11-14T11:49:02.665473Z",
     "start_time": "2019-11-14T11:49:02.658505Z"
    }
   },
   "outputs": [
    {
     "data": {
      "text/plain": [
       "array([1, 1, 1, 1, 1, 1, 1, 1, 1, 1, 1, 1, 1, 1, 1, 1, 1, 1, 1, 1, 1, 1,\n",
       "       1, 1, 1, 1, 1, 1, 1, 1, 1, 1, 1, 1, 1, 1, 1, 1, 1, 1, 1, 1, 1, 1,\n",
       "       1, 1, 1, 1, 1, 1, 1, 1, 1, 1, 1, 1, 1, 1, 1, 1, 1, 1, 1, 1, 1, 1,\n",
       "       1, 1, 1, 1, 1, 1, 1, 1, 1, 1, 1, 1, 1, 1, 1, 1, 1, 1, 1, 1, 1, 1,\n",
       "       1, 1, 1, 1, 1, 1, 1, 1, 1, 1, 1, 1, 1, 1, 1, 1, 1, 1, 1, 1, 1, 1,\n",
       "       1, 1, 1, 1, 1, 1, 1, 1, 1, 1, 1, 1, 1, 1, 1, 1, 1, 1, 1, 1, 1, 1,\n",
       "       1, 1, 1, 1, 1, 1, 1, 1, 1, 1, 1, 1, 1, 1, 1, 1, 1, 1, 1, 1, 1, 1,\n",
       "       1, 1, 1, 1, 1, 1, 1, 1, 1, 1, 1, 1, 1, 1, 1, 1, 1, 1, 1, 1, 1, 1,\n",
       "       1, 1, 1, 1, 1, 1, 1, 1, 1, 1, 1, 1, 1, 1, 1, 1, 1, 1, 1, 1, 1, 1,\n",
       "       1, 1, 1, 1, 1, 1, 1, 1, 1, 1, 1, 1, 1, 1, 1, 1, 1, 1, 1, 1, 1, 1,\n",
       "       1, 1, 1, 1, 1, 1, 1, 1, 1, 1, 1, 1, 1, 1, 1, 1, 1, 1, 1, 1, 1, 1,\n",
       "       1, 1, 1, 1, 1, 1, 1, 1, 1, 1, 1, 1, 1, 1, 1, 1, 1, 1, 1, 1, 1, 1,\n",
       "       1, 1, 1, 1, 1, 1, 1, 1, 1, 1, 1, 1, 1, 1, 1, 1, 1, 1, 1, 1, 1, 1,\n",
       "       1, 1, 1, 1, 1, 1, 1, 1, 1, 1, 1, 1, 1, 1, 1, 1, 1, 1, 1, 1, 1, 1,\n",
       "       1, 1, 1, 1, 1, 1, 1, 1, 1, 1, 1, 1, 1, 1, 1, 1, 1, 1, 1, 1, 1, 1,\n",
       "       1, 1, 1, 1, 1, 1, 1, 1, 1, 1, 1, 1, 1, 1, 1, 1, 1, 1, 1, 1, 1, 1,\n",
       "       1, 1, 1, 1, 1, 1, 1, 1, 1, 1, 1, 1, 1, 1, 1, 1, 1, 1, 1, 1, 1, 1,\n",
       "       1, 1, 1, 1, 1, 1, 1, 1, 1, 1, 1, 1, 1, 1, 1, 1, 1, 1, 1, 1, 1, 1,\n",
       "       1, 1, 1, 1, 1, 1, 1, 1, 1, 1, 1, 1, 1, 1, 1, 1, 1, 1, 1, 1, 1, 1,\n",
       "       1, 1, 1, 1, 1, 1, 1, 1, 1, 1, 1, 1, 1, 1, 1, 1, 1, 1, 1, 1, 1, 1,\n",
       "       1, 1, 1, 1, 1, 1, 1, 1, 1, 1, 1, 1, 1, 1, 1, 1, 1, 1, 1, 1, 1, 1,\n",
       "       1, 1, 1, 1, 1, 1, 1, 1, 1, 1, 1, 1, 1, 1, 1, 1, 1, 1, 1, 1, 1, 1,\n",
       "       1, 1, 1, 1, 1, 1, 1, 1, 1, 1, 1, 1, 1, 1, 1, 1, 1, 1, 1, 1, 1, 1,\n",
       "       1, 1, 1, 1, 1, 1, 1, 1, 1, 1, 1, 1, 1, 1, 1, 1, 1, 1, 1, 1, 1, 1,\n",
       "       1, 1, 1, 1, 1, 1, 1, 1, 1, 1, 1, 1, 1, 1, 1, 1, 1, 1, 1, 1, 1, 1,\n",
       "       1, 1, 1, 1, 1, 1, 1, 1, 1, 1, 1, 1, 1, 1, 1, 1, 1, 1, 1, 1],\n",
       "      dtype=int64)"
      ]
     },
     "execution_count": 156,
     "metadata": {},
     "output_type": "execute_result"
    }
   ],
   "source": [
    "best_clf.predict(x)"
   ]
  },
  {
   "cell_type": "code",
   "execution_count": 157,
   "metadata": {
    "ExecuteTime": {
     "end_time": "2019-11-14T11:49:06.605195Z",
     "start_time": "2019-11-14T11:49:06.602162Z"
    }
   },
   "outputs": [],
   "source": [
    "import pickle\n",
    "\n",
    "pickle.dump(model_lr_scaled, open('model_ilp', 'wb'))"
   ]
  },
  {
   "cell_type": "code",
   "execution_count": 158,
   "metadata": {
    "ExecuteTime": {
     "end_time": "2019-11-14T11:49:08.737643Z",
     "start_time": "2019-11-14T11:49:08.730620Z"
    }
   },
   "outputs": [],
   "source": [
    "loadModel = pickle.load(open('model_ilp', 'rb'))"
   ]
  },
  {
   "cell_type": "code",
   "execution_count": 159,
   "metadata": {
    "ExecuteTime": {
     "end_time": "2019-11-14T11:49:11.383306Z",
     "start_time": "2019-11-14T11:49:11.378307Z"
    }
   },
   "outputs": [
    {
     "data": {
      "text/plain": [
       "LogisticRegression(C=100, class_weight=None, dual=False, fit_intercept=True,\n",
       "                   intercept_scaling=1, l1_ratio=None, max_iter=100,\n",
       "                   multi_class='warn', n_jobs=None, penalty='l2',\n",
       "                   random_state=None, solver='warn', tol=0.0001, verbose=0,\n",
       "                   warm_start=False)"
      ]
     },
     "execution_count": 159,
     "metadata": {},
     "output_type": "execute_result"
    }
   ],
   "source": [
    "loadModel"
   ]
  },
  {
   "cell_type": "code",
   "execution_count": null,
   "metadata": {},
   "outputs": [],
   "source": []
  }
 ],
 "metadata": {
  "kernelspec": {
   "display_name": "Python 3",
   "language": "python",
   "name": "python3"
  },
  "language_info": {
   "codemirror_mode": {
    "name": "ipython",
    "version": 3
   },
   "file_extension": ".py",
   "mimetype": "text/x-python",
   "name": "python",
   "nbconvert_exporter": "python",
   "pygments_lexer": "ipython3",
   "version": "3.7.5"
  },
  "varInspector": {
   "cols": {
    "lenName": 16,
    "lenType": 16,
    "lenVar": 40
   },
   "kernels_config": {
    "python": {
     "delete_cmd_postfix": "",
     "delete_cmd_prefix": "del ",
     "library": "var_list.py",
     "varRefreshCmd": "print(var_dic_list())"
    },
    "r": {
     "delete_cmd_postfix": ") ",
     "delete_cmd_prefix": "rm(",
     "library": "var_list.r",
     "varRefreshCmd": "cat(var_dic_list()) "
    }
   },
   "types_to_exclude": [
    "module",
    "function",
    "builtin_function_or_method",
    "instance",
    "_Feature"
   ],
   "window_display": false
  }
 },
 "nbformat": 4,
 "nbformat_minor": 2
}
