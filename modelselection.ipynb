{
 "cells": [
  {
   "cell_type": "code",
   "execution_count": 1,
   "metadata": {
    "ExecuteTime": {
     "end_time": "2019-11-15T01:10:24.681658Z",
     "start_time": "2019-11-15T01:10:20.387056Z"
    }
   },
   "outputs": [],
   "source": [
    "import pandas as pd\n",
    "import numpy as np\n",
    "import matplotlib.pyplot as plt\n",
    "import seaborn as sns\n",
    "import warnings\n",
    "\n",
    "%matplotlib inline\n",
    "sns.set_style('darkgrid')\n",
    "warnings.filterwarnings('ignore')"
   ]
  },
  {
   "cell_type": "code",
   "execution_count": 2,
   "metadata": {
    "ExecuteTime": {
     "end_time": "2019-11-15T01:10:24.705399Z",
     "start_time": "2019-11-15T01:10:24.682646Z"
    }
   },
   "outputs": [],
   "source": [
    "df = pd.read_csv('data/indian_liver_patient_cleaned.csv')"
   ]
  },
  {
   "cell_type": "code",
   "execution_count": 3,
   "metadata": {
    "ExecuteTime": {
     "end_time": "2019-11-15T01:10:24.720392Z",
     "start_time": "2019-11-15T01:10:24.706391Z"
    }
   },
   "outputs": [
    {
     "data": {
      "text/html": [
       "<div>\n",
       "<style scoped>\n",
       "    .dataframe tbody tr th:only-of-type {\n",
       "        vertical-align: middle;\n",
       "    }\n",
       "\n",
       "    .dataframe tbody tr th {\n",
       "        vertical-align: top;\n",
       "    }\n",
       "\n",
       "    .dataframe thead th {\n",
       "        text-align: right;\n",
       "    }\n",
       "</style>\n",
       "<table border=\"1\" class=\"dataframe\">\n",
       "  <thead>\n",
       "    <tr style=\"text-align: right;\">\n",
       "      <th></th>\n",
       "      <th>Age</th>\n",
       "      <th>Gender</th>\n",
       "      <th>Total_Bilirubin</th>\n",
       "      <th>Direct_Bilirubin</th>\n",
       "      <th>Alkaline_Phosphotase</th>\n",
       "      <th>Alamine_Aminotransferase</th>\n",
       "      <th>Aspartate_Aminotransferase</th>\n",
       "      <th>Total_Protiens</th>\n",
       "      <th>Albumin</th>\n",
       "      <th>Albumin_and_Globulin_Ratio</th>\n",
       "      <th>Dataset</th>\n",
       "    </tr>\n",
       "  </thead>\n",
       "  <tbody>\n",
       "    <tr>\n",
       "      <th>0</th>\n",
       "      <td>65</td>\n",
       "      <td>1</td>\n",
       "      <td>0.7</td>\n",
       "      <td>0.1</td>\n",
       "      <td>187</td>\n",
       "      <td>16</td>\n",
       "      <td>18</td>\n",
       "      <td>6.8</td>\n",
       "      <td>3.3</td>\n",
       "      <td>0.90</td>\n",
       "      <td>1</td>\n",
       "    </tr>\n",
       "    <tr>\n",
       "      <th>1</th>\n",
       "      <td>62</td>\n",
       "      <td>0</td>\n",
       "      <td>10.9</td>\n",
       "      <td>5.5</td>\n",
       "      <td>699</td>\n",
       "      <td>64</td>\n",
       "      <td>100</td>\n",
       "      <td>7.5</td>\n",
       "      <td>3.2</td>\n",
       "      <td>0.74</td>\n",
       "      <td>1</td>\n",
       "    </tr>\n",
       "    <tr>\n",
       "      <th>2</th>\n",
       "      <td>62</td>\n",
       "      <td>0</td>\n",
       "      <td>7.3</td>\n",
       "      <td>4.1</td>\n",
       "      <td>490</td>\n",
       "      <td>60</td>\n",
       "      <td>68</td>\n",
       "      <td>7.0</td>\n",
       "      <td>3.3</td>\n",
       "      <td>0.89</td>\n",
       "      <td>1</td>\n",
       "    </tr>\n",
       "    <tr>\n",
       "      <th>3</th>\n",
       "      <td>58</td>\n",
       "      <td>0</td>\n",
       "      <td>1.0</td>\n",
       "      <td>0.4</td>\n",
       "      <td>182</td>\n",
       "      <td>14</td>\n",
       "      <td>20</td>\n",
       "      <td>6.8</td>\n",
       "      <td>3.4</td>\n",
       "      <td>1.00</td>\n",
       "      <td>1</td>\n",
       "    </tr>\n",
       "    <tr>\n",
       "      <th>4</th>\n",
       "      <td>72</td>\n",
       "      <td>0</td>\n",
       "      <td>3.9</td>\n",
       "      <td>2.0</td>\n",
       "      <td>195</td>\n",
       "      <td>27</td>\n",
       "      <td>59</td>\n",
       "      <td>7.3</td>\n",
       "      <td>2.4</td>\n",
       "      <td>0.40</td>\n",
       "      <td>1</td>\n",
       "    </tr>\n",
       "  </tbody>\n",
       "</table>\n",
       "</div>"
      ],
      "text/plain": [
       "   Age  Gender  Total_Bilirubin  Direct_Bilirubin  Alkaline_Phosphotase  \\\n",
       "0   65       1              0.7               0.1                   187   \n",
       "1   62       0             10.9               5.5                   699   \n",
       "2   62       0              7.3               4.1                   490   \n",
       "3   58       0              1.0               0.4                   182   \n",
       "4   72       0              3.9               2.0                   195   \n",
       "\n",
       "   Alamine_Aminotransferase  Aspartate_Aminotransferase  Total_Protiens  \\\n",
       "0                        16                          18             6.8   \n",
       "1                        64                         100             7.5   \n",
       "2                        60                          68             7.0   \n",
       "3                        14                          20             6.8   \n",
       "4                        27                          59             7.3   \n",
       "\n",
       "   Albumin  Albumin_and_Globulin_Ratio  Dataset  \n",
       "0      3.3                        0.90        1  \n",
       "1      3.2                        0.74        1  \n",
       "2      3.3                        0.89        1  \n",
       "3      3.4                        1.00        1  \n",
       "4      2.4                        0.40        1  "
      ]
     },
     "execution_count": 3,
     "metadata": {},
     "output_type": "execute_result"
    }
   ],
   "source": [
    "df.head()"
   ]
  },
  {
   "cell_type": "code",
   "execution_count": 4,
   "metadata": {
    "ExecuteTime": {
     "end_time": "2019-11-15T01:10:24.727391Z",
     "start_time": "2019-11-15T01:10:24.722395Z"
    }
   },
   "outputs": [],
   "source": [
    "x = df.drop('Dataset', axis=1)\n",
    "y = df['Dataset']"
   ]
  },
  {
   "cell_type": "code",
   "execution_count": 82,
   "metadata": {
    "ExecuteTime": {
     "end_time": "2019-11-15T01:46:10.053307Z",
     "start_time": "2019-11-15T01:46:10.048307Z"
    }
   },
   "outputs": [],
   "source": [
    "# splitting\n",
    "from sklearn.model_selection import train_test_split\n",
    "\n",
    "X_train, X_test, y_train, y_test = train_test_split(x, y, test_size=0.25, random_state=101)"
   ]
  },
  {
   "cell_type": "code",
   "execution_count": null,
   "metadata": {},
   "outputs": [],
   "source": []
  },
  {
   "cell_type": "markdown",
   "metadata": {},
   "source": [
    "### model selection"
   ]
  },
  {
   "cell_type": "code",
   "execution_count": 91,
   "metadata": {
    "ExecuteTime": {
     "end_time": "2019-11-15T01:48:11.052489Z",
     "start_time": "2019-11-15T01:48:11.048489Z"
    }
   },
   "outputs": [],
   "source": [
    "from sklearn.linear_model import LogisticRegression\n",
    "from sklearn.neighbors import KNeighborsClassifier\n",
    "from sklearn.ensemble import RandomForestClassifier\n",
    "from sklearn.svm import SVC\n",
    "from sklearn.metrics import precision_score, f1_score, recall_score, accuracy_score\n",
    "from sklearn.model_selection import GridSearchCV, KFold, cross_val_score"
   ]
  },
  {
   "cell_type": "markdown",
   "metadata": {},
   "source": [
    "#### logistic regression"
   ]
  },
  {
   "cell_type": "code",
   "execution_count": 147,
   "metadata": {
    "ExecuteTime": {
     "end_time": "2019-11-15T04:37:45.290700Z",
     "start_time": "2019-11-15T04:37:45.276684Z"
    }
   },
   "outputs": [
    {
     "name": "stdout",
     "output_type": "stream",
     "text": [
      "Logistic Regression Classifier:\n",
      "Accuracy: 0.7342657342657343\n",
      "Precision: 0.7421875\n",
      "Recall: 0.95\n",
      "F-1 score: 0.8333333333333334\n"
     ]
    }
   ],
   "source": [
    "model_lr = LogisticRegression()\n",
    "\n",
    "model_lr.fit(X_train, y_train)\n",
    "\n",
    "print('Logistic Regression Classifier:')\n",
    "print('Accuracy:', model_lr.score(X_test, y_test))\n",
    "print('Precision:', precision_score(y_test, model_lr.predict(X_test)))\n",
    "print('Recall:', recall_score(y_test, model_lr.predict(X_test)))\n",
    "print('F-1 score:', f1_score(y_test, model_lr.predict(X_test)))"
   ]
  },
  {
   "cell_type": "code",
   "execution_count": 148,
   "metadata": {
    "ExecuteTime": {
     "end_time": "2019-11-15T04:37:47.373416Z",
     "start_time": "2019-11-15T04:37:47.325429Z"
    }
   },
   "outputs": [
    {
     "data": {
      "text/plain": [
       "0.719412756028001"
      ]
     },
     "execution_count": 148,
     "metadata": {},
     "output_type": "execute_result"
    }
   ],
   "source": [
    "cross_val_score(model_lr, x, y, cv=10).mean()"
   ]
  },
  {
   "cell_type": "code",
   "execution_count": 142,
   "metadata": {
    "ExecuteTime": {
     "end_time": "2019-11-15T03:12:33.806713Z",
     "start_time": "2019-11-15T03:12:33.799713Z"
    }
   },
   "outputs": [
    {
     "data": {
      "text/plain": [
       "array([1], dtype=int64)"
      ]
     },
     "execution_count": 142,
     "metadata": {},
     "output_type": "execute_result"
    }
   ],
   "source": [
    "model_lr.predict([[15,0,10.7,1.7,177,109,18,7.1,2.6,0.9]])"
   ]
  },
  {
   "cell_type": "code",
   "execution_count": 149,
   "metadata": {
    "ExecuteTime": {
     "end_time": "2019-11-15T04:37:53.710721Z",
     "start_time": "2019-11-15T04:37:51.548723Z"
    }
   },
   "outputs": [
    {
     "name": "stdout",
     "output_type": "stream",
     "text": [
      "Fitting 5 folds for each of 40 candidates, totalling 200 fits\n"
     ]
    },
    {
     "name": "stderr",
     "output_type": "stream",
     "text": [
      "[Parallel(n_jobs=-1)]: Using backend LokyBackend with 6 concurrent workers.\n",
      "[Parallel(n_jobs=-1)]: Done  29 tasks      | elapsed:    1.6s\n",
      "[Parallel(n_jobs=-1)]: Done 200 out of 200 | elapsed:    1.8s finished\n",
      "C:\\Users\\EN\\Anaconda3\\lib\\site-packages\\sklearn\\model_selection\\_search.py:814: DeprecationWarning: The default of the `iid` parameter will change from True to False in version 0.22 and will be removed in 0.24. This will change numeric results when test-set sizes are unequal.\n",
      "  DeprecationWarning)\n"
     ]
    }
   ],
   "source": [
    "lg = LogisticRegression()\n",
    "hyperparameters = {'C': np.logspace(-4, 4, 20),\n",
    "                   'penalty' : ['l1', 'l2']}\n",
    "\n",
    "clf = GridSearchCV(lg, hyperparameters, cv=5, n_jobs=-1, verbose=2)\n",
    "\n",
    "best_clf = clf.fit(X_train, y_train)"
   ]
  },
  {
   "cell_type": "code",
   "execution_count": 150,
   "metadata": {
    "ExecuteTime": {
     "end_time": "2019-11-15T04:37:56.073010Z",
     "start_time": "2019-11-15T04:37:56.069009Z"
    }
   },
   "outputs": [
    {
     "data": {
      "text/plain": [
       "{'C': 0.03359818286283781, 'penalty': 'l2'}"
      ]
     },
     "execution_count": 150,
     "metadata": {},
     "output_type": "execute_result"
    }
   ],
   "source": [
    "best_clf.best_params_"
   ]
  },
  {
   "cell_type": "code",
   "execution_count": 151,
   "metadata": {
    "ExecuteTime": {
     "end_time": "2019-11-15T04:37:58.468224Z",
     "start_time": "2019-11-15T04:37:58.453222Z"
    }
   },
   "outputs": [
    {
     "name": "stdout",
     "output_type": "stream",
     "text": [
      "Logistic Regression Classifier:\n",
      "Accuracy: 0.7062937062937062\n",
      "Precision: 0.7164179104477612\n",
      "Recall: 0.96\n",
      "F-1 score: 0.8205128205128206\n"
     ]
    }
   ],
   "source": [
    "model_lr = LogisticRegression(C=0.03359818286283781, penalty='l2')\n",
    "\n",
    "model_lr.fit(X_train, y_train)\n",
    "\n",
    "print('Logistic Regression Classifier:')\n",
    "print('Accuracy:', model_lr.score(X_test, y_test))\n",
    "print('Precision:', precision_score(y_test, model_lr.predict(X_test)))\n",
    "print('Recall:', recall_score(y_test, model_lr.predict(X_test)))\n",
    "print('F-1 score:', f1_score(y_test, model_lr.predict(X_test)))"
   ]
  },
  {
   "cell_type": "code",
   "execution_count": 146,
   "metadata": {
    "ExecuteTime": {
     "end_time": "2019-11-15T04:37:18.222367Z",
     "start_time": "2019-11-15T04:37:18.181763Z"
    }
   },
   "outputs": [
    {
     "data": {
      "text/plain": [
       "0.7193230922132918"
      ]
     },
     "execution_count": 146,
     "metadata": {},
     "output_type": "execute_result"
    }
   ],
   "source": [
    "cross_val_score(model_lr, x, y, cv=10).mean()"
   ]
  },
  {
   "cell_type": "code",
   "execution_count": null,
   "metadata": {},
   "outputs": [],
   "source": []
  },
  {
   "cell_type": "code",
   "execution_count": null,
   "metadata": {},
   "outputs": [],
   "source": []
  },
  {
   "cell_type": "markdown",
   "metadata": {},
   "source": [
    "#### random forest classifier"
   ]
  },
  {
   "cell_type": "code",
   "execution_count": 137,
   "metadata": {
    "ExecuteTime": {
     "end_time": "2019-11-15T03:10:59.181205Z",
     "start_time": "2019-11-15T03:10:59.112231Z"
    }
   },
   "outputs": [
    {
     "name": "stdout",
     "output_type": "stream",
     "text": [
      "Random Forest Classifier:\n",
      "Accuracy: 0.6993006993006993\n",
      "Precision: 0.7567567567567568\n",
      "Recall: 0.84\n",
      "F-1 score: 0.7962085308056872\n"
     ]
    }
   ],
   "source": [
    "rfc = RandomForestClassifier(n_estimators=40)\n",
    "\n",
    "rfc.fit(X_train, y_train)\n",
    "print('Random Forest Classifier:')\n",
    "print('Accuracy:', rfc.score(X_test, y_test))\n",
    "print('Precision:', precision_score(y_test, rfc.predict(X_test)))\n",
    "print('Recall:', recall_score(y_test, rfc.predict(X_test)))\n",
    "print('F-1 score:', f1_score(y_test, rfc.predict(X_test)))"
   ]
  },
  {
   "cell_type": "code",
   "execution_count": 128,
   "metadata": {
    "ExecuteTime": {
     "end_time": "2019-11-15T02:57:33.743057Z",
     "start_time": "2019-11-15T02:50:55.347926Z"
    }
   },
   "outputs": [
    {
     "name": "stdout",
     "output_type": "stream",
     "text": [
      "Fitting 5 folds for each of 1152 candidates, totalling 5760 fits\n"
     ]
    },
    {
     "name": "stderr",
     "output_type": "stream",
     "text": [
      "[Parallel(n_jobs=-1)]: Using backend LokyBackend with 6 concurrent workers.\n",
      "[Parallel(n_jobs=-1)]: Done  29 tasks      | elapsed:    3.2s\n",
      "[Parallel(n_jobs=-1)]: Done 150 tasks      | elapsed:   11.5s\n",
      "[Parallel(n_jobs=-1)]: Done 353 tasks      | elapsed:   26.0s\n",
      "[Parallel(n_jobs=-1)]: Done 636 tasks      | elapsed:   44.9s\n",
      "[Parallel(n_jobs=-1)]: Done 1001 tasks      | elapsed:  1.2min\n",
      "[Parallel(n_jobs=-1)]: Done 1446 tasks      | elapsed:  1.7min\n",
      "[Parallel(n_jobs=-1)]: Done 1973 tasks      | elapsed:  2.3min\n",
      "[Parallel(n_jobs=-1)]: Done 2580 tasks      | elapsed:  3.0min\n",
      "[Parallel(n_jobs=-1)]: Done 3269 tasks      | elapsed:  3.8min\n",
      "[Parallel(n_jobs=-1)]: Done 4038 tasks      | elapsed:  4.7min\n",
      "[Parallel(n_jobs=-1)]: Done 4889 tasks      | elapsed:  5.6min\n",
      "[Parallel(n_jobs=-1)]: Done 5760 out of 5760 | elapsed:  6.6min finished\n",
      "C:\\Users\\EN\\Anaconda3\\lib\\site-packages\\sklearn\\model_selection\\_search.py:814: DeprecationWarning: The default of the `iid` parameter will change from True to False in version 0.22 and will be removed in 0.24. This will change numeric results when test-set sizes are unequal.\n",
      "  DeprecationWarning)\n"
     ]
    }
   ],
   "source": [
    "rfc_ = RandomForestClassifier()\n",
    "hyperparameters = {'n_estimators': [100, 200, 300, 1000],\n",
    "                   'max_depth': [80, 90, 100, 110],\n",
    "                   'min_samples_split': [2,10,20,40,80,100],\n",
    "                   'min_samples_leaf': [2,10,20,40,80,100],\n",
    "                   'max_features': [2, 3]}\n",
    "\n",
    "clf = GridSearchCV(rfc_, hyperparameters, cv=5, n_jobs=-1, verbose=2)\n",
    "\n",
    "best_clf = clf.fit(X_train, y_train)"
   ]
  },
  {
   "cell_type": "code",
   "execution_count": 129,
   "metadata": {
    "ExecuteTime": {
     "end_time": "2019-11-15T02:58:36.566850Z",
     "start_time": "2019-11-15T02:58:36.562849Z"
    }
   },
   "outputs": [
    {
     "data": {
      "text/plain": [
       "{'max_depth': 110,\n",
       " 'max_features': 3,\n",
       " 'min_samples_leaf': 2,\n",
       " 'min_samples_split': 80,\n",
       " 'n_estimators': 300}"
      ]
     },
     "execution_count": 129,
     "metadata": {},
     "output_type": "execute_result"
    }
   ],
   "source": [
    "best_clf.best_params_"
   ]
  },
  {
   "cell_type": "code",
   "execution_count": 138,
   "metadata": {
    "ExecuteTime": {
     "end_time": "2019-11-15T03:11:06.845644Z",
     "start_time": "2019-11-15T03:11:06.488621Z"
    }
   },
   "outputs": [
    {
     "name": "stdout",
     "output_type": "stream",
     "text": [
      "Random Forest Classifier:\n",
      "Accuracy: 0.6993006993006993\n",
      "Precision: 0.7142857142857143\n",
      "Recall: 0.95\n",
      "F-1 score: 0.8154506437768242\n"
     ]
    }
   ],
   "source": [
    "rfc = RandomForestClassifier(max_depth=110, max_features=3, min_samples_leaf=2, min_samples_split=80, n_estimators=300)\n",
    "\n",
    "rfc.fit(X_train, y_train)\n",
    "print('Random Forest Classifier:')\n",
    "print('Accuracy:', rfc.score(X_test, y_test))\n",
    "print('Precision:', precision_score(y_test, rfc.predict(X_test)))\n",
    "print('Recall:', recall_score(y_test, rfc.predict(X_test)))\n",
    "print('F-1 score:', f1_score(y_test, rfc.predict(X_test)))"
   ]
  },
  {
   "cell_type": "code",
   "execution_count": 131,
   "metadata": {
    "ExecuteTime": {
     "end_time": "2019-11-15T02:59:02.145805Z",
     "start_time": "2019-11-15T02:58:59.137835Z"
    }
   },
   "outputs": [
    {
     "data": {
      "text/plain": [
       "0.6947541266960504"
      ]
     },
     "execution_count": 131,
     "metadata": {},
     "output_type": "execute_result"
    }
   ],
   "source": [
    "cross_val_score(rfc, x, y, cv=10).mean()"
   ]
  },
  {
   "cell_type": "code",
   "execution_count": 141,
   "metadata": {
    "ExecuteTime": {
     "end_time": "2019-11-15T03:12:21.498763Z",
     "start_time": "2019-11-15T03:12:21.471787Z"
    }
   },
   "outputs": [
    {
     "data": {
      "text/plain": [
       "array([1], dtype=int64)"
      ]
     },
     "execution_count": 141,
     "metadata": {},
     "output_type": "execute_result"
    }
   ],
   "source": [
    "rfc.predict([[15,0,10.7,1.7,177,109,18,7.1,2.6,0.9]])"
   ]
  },
  {
   "cell_type": "code",
   "execution_count": null,
   "metadata": {},
   "outputs": [],
   "source": []
  },
  {
   "cell_type": "code",
   "execution_count": null,
   "metadata": {},
   "outputs": [],
   "source": []
  },
  {
   "cell_type": "markdown",
   "metadata": {},
   "source": [
    "#### KNN"
   ]
  },
  {
   "cell_type": "code",
   "execution_count": 85,
   "metadata": {
    "ExecuteTime": {
     "end_time": "2019-11-15T01:46:44.333330Z",
     "start_time": "2019-11-15T01:46:44.304331Z"
    }
   },
   "outputs": [
    {
     "name": "stdout",
     "output_type": "stream",
     "text": [
      "k-NN Classifier:\n",
      "Accuracy: 0.6993006993006993\n",
      "Precision: 0.7435897435897436\n",
      "Recall: 0.87\n",
      "F-1 score: 0.8018433179723502\n"
     ]
    }
   ],
   "source": [
    "knn = KNeighborsClassifier(n_neighbors=5)\n",
    "\n",
    "knn.fit(X_train, y_train)\n",
    "print('k-NN Classifier:')\n",
    "print('Accuracy:', knn.score(X_test, y_test))\n",
    "print('Precision:', precision_score(y_test, knn.predict(X_test)))\n",
    "print('Recall:', recall_score(y_test, knn.predict(X_test)))\n",
    "print('F-1 score:', f1_score(y_test, knn.predict(X_test)))"
   ]
  },
  {
   "cell_type": "code",
   "execution_count": null,
   "metadata": {},
   "outputs": [],
   "source": []
  },
  {
   "cell_type": "code",
   "execution_count": 94,
   "metadata": {
    "ExecuteTime": {
     "end_time": "2019-11-15T01:48:44.838684Z",
     "start_time": "2019-11-15T01:48:44.720615Z"
    }
   },
   "outputs": [],
   "source": [
    "k_range = list(range(1, round(len(df) ** 0.5)))\n",
    "scores = []\n",
    "for k in k_range:\n",
    "    knn = KNeighborsClassifier(n_neighbors=k)\n",
    "    knn.fit(X_train, y_train)\n",
    "    pred = knn.predict(X_test)\n",
    "    scores.append(accuracy_score(y_test, pred))"
   ]
  },
  {
   "cell_type": "code",
   "execution_count": 95,
   "metadata": {
    "ExecuteTime": {
     "end_time": "2019-11-15T01:48:46.976272Z",
     "start_time": "2019-11-15T01:48:46.793249Z"
    }
   },
   "outputs": [
    {
     "data": {
      "text/plain": [
       "Text(0, 0.5, 'Testing Accuracy')"
      ]
     },
     "execution_count": 95,
     "metadata": {},
     "output_type": "execute_result"
    },
    {
     "data": {
      "image/png": "[encoded data removed]",
      "text/plain": [
       "<Figure size 432x288 with 1 Axes>"
      ]
     },
     "metadata": {
      "needs_background": "light"
     },
     "output_type": "display_data"
    }
   ],
   "source": [
    "plt.plot(k_range, scores)\n",
    "plt.xlabel('Value of K for KNN')\n",
    "plt.ylabel('Testing Accuracy')"
   ]
  },
  {
   "cell_type": "code",
   "execution_count": null,
   "metadata": {},
   "outputs": [],
   "source": []
  },
  {
   "cell_type": "code",
   "execution_count": 89,
   "metadata": {
    "ExecuteTime": {
     "end_time": "2019-11-15T01:47:22.558171Z",
     "start_time": "2019-11-15T01:47:22.529171Z"
    }
   },
   "outputs": [
    {
     "name": "stdout",
     "output_type": "stream",
     "text": [
      "k-NN Classifier:\n",
      "Accuracy: 0.7132867132867133\n",
      "Precision: 0.743801652892562\n",
      "Recall: 0.9\n",
      "F-1 score: 0.8144796380090498\n"
     ]
    }
   ],
   "source": [
    "knn = KNeighborsClassifier(n_neighbors=9)\n",
    "\n",
    "knn.fit(X_train, y_train)\n",
    "print('k-NN Classifier:')\n",
    "print('Accuracy:', knn.score(X_test, y_test))\n",
    "print('Precision:', precision_score(y_test, knn.predict(X_test)))\n",
    "print('Recall:', recall_score(y_test, knn.predict(X_test)))\n",
    "print('F-1 score:', f1_score(y_test, knn.predict(X_test)))"
   ]
  },
  {
   "cell_type": "code",
   "execution_count": 114,
   "metadata": {
    "ExecuteTime": {
     "end_time": "2019-11-15T02:27:40.580614Z",
     "start_time": "2019-11-15T02:27:40.528613Z"
    }
   },
   "outputs": [
    {
     "data": {
      "text/plain": [
       "0.6912442744793017"
      ]
     },
     "execution_count": 114,
     "metadata": {},
     "output_type": "execute_result"
    }
   ],
   "source": [
    "cross_val_score(knn, x, y, cv=10).mean()"
   ]
  },
  {
   "cell_type": "code",
   "execution_count": 140,
   "metadata": {
    "ExecuteTime": {
     "end_time": "2019-11-15T03:12:08.815330Z",
     "start_time": "2019-11-15T03:12:08.809355Z"
    }
   },
   "outputs": [
    {
     "data": {
      "text/plain": [
       "array([1], dtype=int64)"
      ]
     },
     "execution_count": 140,
     "metadata": {},
     "output_type": "execute_result"
    }
   ],
   "source": [
    "knn.predict([[15,0,10.7,1.7,177,109,18,7.1,2.6,0.9]])"
   ]
  },
  {
   "cell_type": "code",
   "execution_count": null,
   "metadata": {},
   "outputs": [],
   "source": []
  },
  {
   "cell_type": "markdown",
   "metadata": {},
   "source": [
    "#### SVC"
   ]
  },
  {
   "cell_type": "code",
   "execution_count": 179,
   "metadata": {
    "ExecuteTime": {
     "end_time": "2019-11-15T05:18:49.279897Z",
     "start_time": "2019-11-15T05:18:49.212897Z"
    }
   },
   "outputs": [
    {
     "name": "stdout",
     "output_type": "stream",
     "text": [
      "SVC:\n",
      "Accuracy: 0.6993006993006993\n",
      "Precision: 0.6993006993006993\n",
      "Recall: 1.0\n",
      "F-1 score: 0.823045267489712\n"
     ]
    }
   ],
   "source": [
    "svm = SVC(gamma='auto', probability=True)\n",
    "\n",
    "svm.fit(X_train, y_train)\n",
    "print('SVC:')\n",
    "print('Accuracy:', svm.score(X_test, y_test))\n",
    "print('Precision:', precision_score(y_test, svm.predict(X_test)))\n",
    "print('Recall:', recall_score(y_test, svm.predict(X_test)))\n",
    "print('F-1 score:', f1_score(y_test, svm.predict(X_test)))"
   ]
  },
  {
   "cell_type": "code",
   "execution_count": 180,
   "metadata": {
    "ExecuteTime": {
     "end_time": "2019-11-15T05:18:52.301625Z",
     "start_time": "2019-11-15T05:18:51.612603Z"
    }
   },
   "outputs": [
    {
     "data": {
      "text/plain": [
       "0.7123325555267479"
      ]
     },
     "execution_count": 180,
     "metadata": {},
     "output_type": "execute_result"
    }
   ],
   "source": [
    "cross_val_score(svm, x, y, cv=10).mean()"
   ]
  },
  {
   "cell_type": "code",
   "execution_count": 181,
   "metadata": {
    "ExecuteTime": {
     "end_time": "2019-11-15T05:18:57.742131Z",
     "start_time": "2019-11-15T05:18:55.636129Z"
    }
   },
   "outputs": [
    {
     "name": "stdout",
     "output_type": "stream",
     "text": [
      "Fitting 5 folds for each of 20 candidates, totalling 100 fits\n"
     ]
    },
    {
     "name": "stderr",
     "output_type": "stream",
     "text": [
      "[Parallel(n_jobs=-1)]: Using backend LokyBackend with 6 concurrent workers.\n",
      "[Parallel(n_jobs=-1)]: Done  29 tasks      | elapsed:    1.6s\n",
      "[Parallel(n_jobs=-1)]: Done 100 out of 100 | elapsed:    1.7s finished\n",
      "C:\\Users\\EN\\Anaconda3\\lib\\site-packages\\sklearn\\model_selection\\_search.py:814: DeprecationWarning: The default of the `iid` parameter will change from True to False in version 0.22 and will be removed in 0.24. This will change numeric results when test-set sizes are unequal.\n",
      "  DeprecationWarning)\n"
     ]
    }
   ],
   "source": [
    "svc_ = SVC()\n",
    "\n",
    "hyperparameters = {'C': [0.001, 0.01, 0.1, 1, 10],\n",
    "                   'gamma' : [0.001, 0.01, 0.1, 1]}\n",
    "\n",
    "clf = GridSearchCV(svc_, hyperparameters, cv=5, n_jobs=-1, verbose=2)\n",
    "\n",
    "best_clf = clf.fit(X_train, y_train)"
   ]
  },
  {
   "cell_type": "code",
   "execution_count": 182,
   "metadata": {
    "ExecuteTime": {
     "end_time": "2019-11-15T05:19:04.552068Z",
     "start_time": "2019-11-15T05:19:04.548074Z"
    }
   },
   "outputs": [
    {
     "data": {
      "text/plain": [
       "{'C': 1, 'gamma': 0.01}"
      ]
     },
     "execution_count": 182,
     "metadata": {},
     "output_type": "execute_result"
    }
   ],
   "source": [
    "best_clf.best_params_"
   ]
  },
  {
   "cell_type": "code",
   "execution_count": 183,
   "metadata": {
    "ExecuteTime": {
     "end_time": "2019-11-15T05:19:13.335837Z",
     "start_time": "2019-11-15T05:19:13.331861Z"
    }
   },
   "outputs": [
    {
     "data": {
      "text/plain": [
       "SVC(C=1, cache_size=200, class_weight=None, coef0=0.0,\n",
       "    decision_function_shape='ovr', degree=3, gamma=0.01, kernel='rbf',\n",
       "    max_iter=-1, probability=False, random_state=None, shrinking=True,\n",
       "    tol=0.001, verbose=False)"
      ]
     },
     "execution_count": 183,
     "metadata": {},
     "output_type": "execute_result"
    }
   ],
   "source": [
    "best_clf.best_estimator_"
   ]
  },
  {
   "cell_type": "code",
   "execution_count": 184,
   "metadata": {
    "ExecuteTime": {
     "end_time": "2019-11-15T05:19:22.188411Z",
     "start_time": "2019-11-15T05:19:22.132413Z"
    }
   },
   "outputs": [
    {
     "name": "stdout",
     "output_type": "stream",
     "text": [
      "SVC:\n",
      "Accuracy: 0.6853146853146853\n",
      "Precision: 0.7007299270072993\n",
      "Recall: 0.96\n",
      "F-1 score: 0.8101265822784811\n"
     ]
    }
   ],
   "source": [
    "svm = SVC(C=1, gamma=0.01, probability=True)\n",
    "\n",
    "svm.fit(X_train, y_train)\n",
    "print('SVC:')\n",
    "print('Accuracy:', svm.score(X_test, y_test))\n",
    "print('Precision:', precision_score(y_test, svm.predict(X_test)))\n",
    "print('Recall:', recall_score(y_test, svm.predict(X_test)))\n",
    "print('F-1 score:', f1_score(y_test, svm.predict(X_test)))"
   ]
  },
  {
   "cell_type": "code",
   "execution_count": 186,
   "metadata": {
    "ExecuteTime": {
     "end_time": "2019-11-15T05:19:43.666059Z",
     "start_time": "2019-11-15T05:19:43.156026Z"
    }
   },
   "outputs": [
    {
     "data": {
      "text/plain": [
       "0.7140880217785844"
      ]
     },
     "execution_count": 186,
     "metadata": {},
     "output_type": "execute_result"
    }
   ],
   "source": [
    "cross_val_score(svm, x, y, cv=10).mean()"
   ]
  },
  {
   "cell_type": "code",
   "execution_count": null,
   "metadata": {},
   "outputs": [],
   "source": []
  },
  {
   "cell_type": "markdown",
   "metadata": {},
   "source": [
    "#### comparing model (after hyperparam tuning)"
   ]
  },
  {
   "cell_type": "code",
   "execution_count": 187,
   "metadata": {
    "ExecuteTime": {
     "end_time": "2019-11-15T05:19:51.823727Z",
     "start_time": "2019-11-15T05:19:48.188662Z"
    }
   },
   "outputs": [
    {
     "data": {
      "text/html": [
       "<div>\n",
       "<style scoped>\n",
       "    .dataframe tbody tr th:only-of-type {\n",
       "        vertical-align: middle;\n",
       "    }\n",
       "\n",
       "    .dataframe tbody tr th {\n",
       "        vertical-align: top;\n",
       "    }\n",
       "\n",
       "    .dataframe thead th {\n",
       "        text-align: right;\n",
       "    }\n",
       "</style>\n",
       "<table border=\"1\" class=\"dataframe\">\n",
       "  <thead>\n",
       "    <tr style=\"text-align: right;\">\n",
       "      <th></th>\n",
       "      <th>model</th>\n",
       "      <th>Accuracy</th>\n",
       "      <th>Precision</th>\n",
       "      <th>Recall</th>\n",
       "      <th>F-1 score</th>\n",
       "      <th>Cross Val Score</th>\n",
       "    </tr>\n",
       "  </thead>\n",
       "  <tbody>\n",
       "    <tr>\n",
       "      <th>0</th>\n",
       "      <td>logistic regression</td>\n",
       "      <td>0.706294</td>\n",
       "      <td>0.716418</td>\n",
       "      <td>0.96</td>\n",
       "      <td>0.820513</td>\n",
       "      <td>0.719323</td>\n",
       "    </tr>\n",
       "    <tr>\n",
       "      <th>1</th>\n",
       "      <td>rfc</td>\n",
       "      <td>0.699301</td>\n",
       "      <td>0.714286</td>\n",
       "      <td>0.95</td>\n",
       "      <td>0.815451</td>\n",
       "      <td>0.693029</td>\n",
       "    </tr>\n",
       "    <tr>\n",
       "      <th>2</th>\n",
       "      <td>knn</td>\n",
       "      <td>0.678322</td>\n",
       "      <td>0.728814</td>\n",
       "      <td>0.86</td>\n",
       "      <td>0.788991</td>\n",
       "      <td>0.691244</td>\n",
       "    </tr>\n",
       "    <tr>\n",
       "      <th>3</th>\n",
       "      <td>svc</td>\n",
       "      <td>0.685315</td>\n",
       "      <td>0.700730</td>\n",
       "      <td>0.96</td>\n",
       "      <td>0.810127</td>\n",
       "      <td>0.714088</td>\n",
       "    </tr>\n",
       "  </tbody>\n",
       "</table>\n",
       "</div>"
      ],
      "text/plain": [
       "                 model  Accuracy  Precision  Recall  F-1 score  \\\n",
       "0  logistic regression  0.706294   0.716418    0.96   0.820513   \n",
       "1                  rfc  0.699301   0.714286    0.95   0.815451   \n",
       "2                  knn  0.678322   0.728814    0.86   0.788991   \n",
       "3                  svc  0.685315   0.700730    0.96   0.810127   \n",
       "\n",
       "   Cross Val Score  \n",
       "0         0.719323  \n",
       "1         0.693029  \n",
       "2         0.691244  \n",
       "3         0.714088  "
      ]
     },
     "execution_count": 187,
     "metadata": {},
     "output_type": "execute_result"
    }
   ],
   "source": [
    "a = [['logistic regression',model_lr.score(X_test, y_test),precision_score(y_test, model_lr.predict(X_test)), recall_score(y_test, model_lr.predict(X_test)),f1_score(y_test, model_lr.predict(X_test)), cross_val_score(model_lr, x, y, cv=10).mean()],\n",
    "     ['rfc', rfc.score(X_test, y_test),precision_score(y_test, rfc.predict(X_test)),recall_score(y_test, rfc.predict(X_test)),f1_score(y_test, rfc.predict(X_test)), cross_val_score(rfc, x, y, cv=10).mean()],\n",
    "     ['knn', knn.score(X_test, y_test), precision_score(y_test, knn.predict(X_test)),recall_score(y_test, knn.predict(X_test)), f1_score(y_test, knn.predict(X_test)), cross_val_score(knn, x, y, cv=10).mean()],\n",
    "     ['svc', svm.score(X_test, y_test), precision_score(y_test, svm.predict(X_test)),recall_score(y_test, svm.predict(X_test)), f1_score(y_test, svm.predict(X_test)), cross_val_score(svm, x, y, cv=10).mean()],\n",
    "    ]\n",
    "\n",
    "dfcompare = pd.DataFrame(a, columns=['model', 'Accuracy','Precision','Recall','F-1 score','Cross Val Score'])\n",
    "dfcompare\n"
   ]
  },
  {
   "cell_type": "markdown",
   "metadata": {},
   "source": [
    "Dari pengujian tersebut saya memutuskan untuk memilih menggunakan Logistic Regression."
   ]
  },
  {
   "cell_type": "code",
   "execution_count": 188,
   "metadata": {
    "ExecuteTime": {
     "end_time": "2019-11-15T05:21:55.281296Z",
     "start_time": "2019-11-15T05:21:55.276296Z"
    }
   },
   "outputs": [],
   "source": [
    "import pickle\n",
    "\n",
    "pickle.dump(model_lr, open('model_ilp', 'wb'))"
   ]
  },
  {
   "cell_type": "code",
   "execution_count": 189,
   "metadata": {
    "ExecuteTime": {
     "end_time": "2019-11-15T05:21:56.819778Z",
     "start_time": "2019-11-15T05:21:56.811777Z"
    }
   },
   "outputs": [],
   "source": [
    "loadModel = pickle.load(open('model_ilp', 'rb'))"
   ]
  },
  {
   "cell_type": "code",
   "execution_count": 190,
   "metadata": {
    "ExecuteTime": {
     "end_time": "2019-11-15T05:21:57.776836Z",
     "start_time": "2019-11-15T05:21:57.771861Z"
    }
   },
   "outputs": [
    {
     "data": {
      "text/plain": [
       "LogisticRegression(C=0.03359818286283781, class_weight=None, dual=False,\n",
       "                   fit_intercept=True, intercept_scaling=1, l1_ratio=None,\n",
       "                   max_iter=100, multi_class='warn', n_jobs=None, penalty='l2',\n",
       "                   random_state=None, solver='warn', tol=0.0001, verbose=0,\n",
       "                   warm_start=False)"
      ]
     },
     "execution_count": 190,
     "metadata": {},
     "output_type": "execute_result"
    }
   ],
   "source": [
    "loadModel"
   ]
  },
  {
   "cell_type": "code",
   "execution_count": 191,
   "metadata": {
    "ExecuteTime": {
     "end_time": "2019-11-15T05:22:02.233747Z",
     "start_time": "2019-11-15T05:22:02.227716Z"
    }
   },
   "outputs": [
    {
     "data": {
      "text/plain": [
       "array([1], dtype=int64)"
      ]
     },
     "execution_count": 191,
     "metadata": {},
     "output_type": "execute_result"
    }
   ],
   "source": [
    "loadModel.predict([[15,0,10.7,1.7,177,109,18,7.1,2.6,0.9]])"
   ]
  },
  {
   "cell_type": "code",
   "execution_count": null,
   "metadata": {},
   "outputs": [],
   "source": []
  }
 ],
 "metadata": {
  "kernelspec": {
   "display_name": "Python 3",
   "language": "python",
   "name": "python3"
  },
  "language_info": {
   "codemirror_mode": {
    "name": "ipython",
    "version": 3
   },
   "file_extension": ".py",
   "mimetype": "text/x-python",
   "name": "python",
   "nbconvert_exporter": "python",
   "pygments_lexer": "ipython3",
   "version": "3.7.5"
  },
  "varInspector": {
   "cols": {
    "lenName": 16,
    "lenType": 16,
    "lenVar": 40
   },
   "kernels_config": {
    "python": {
     "delete_cmd_postfix": "",
     "delete_cmd_prefix": "del ",
     "library": "var_list.py",
     "varRefreshCmd": "print(var_dic_list())"
    },
    "r": {
     "delete_cmd_postfix": ") ",
     "delete_cmd_prefix": "rm(",
     "library": "var_list.r",
     "varRefreshCmd": "cat(var_dic_list()) "
    }
   },
   "types_to_exclude": [
    "module",
    "function",
    "builtin_function_or_method",
    "instance",
    "_Feature"
   ],
   "window_display": false
  }
 },
 "nbformat": 4,
 "nbformat_minor": 2
}
