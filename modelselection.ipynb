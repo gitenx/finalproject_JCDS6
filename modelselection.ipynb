{
 "cells": [
  {
   "cell_type": "code",
   "execution_count": 1,
   "metadata": {
    "ExecuteTime": {
     "end_time": "2019-11-18T11:09:35.961077Z",
     "start_time": "2019-11-18T11:09:31.259242Z"
    }
   },
   "outputs": [],
   "source": [
    "import pandas as pd\n",
    "import numpy as np\n",
    "import matplotlib.pyplot as plt\n",
    "import seaborn as sns\n",
    "import warnings\n",
    "\n",
    "%matplotlib inline\n",
    "sns.set_style('darkgrid')\n",
    "warnings.filterwarnings('ignore')"
   ]
  },
  {
   "cell_type": "code",
   "execution_count": 2,
   "metadata": {
    "ExecuteTime": {
     "end_time": "2019-11-18T11:09:35.985078Z",
     "start_time": "2019-11-18T11:09:35.963078Z"
    }
   },
   "outputs": [],
   "source": [
    "df = pd.read_csv('data/indian_liver_patient_cleaned.csv')"
   ]
  },
  {
   "cell_type": "code",
   "execution_count": 3,
   "metadata": {
    "ExecuteTime": {
     "end_time": "2019-11-18T11:09:36.010078Z",
     "start_time": "2019-11-18T11:09:35.987082Z"
    }
   },
   "outputs": [
    {
     "data": {
      "text/html": [
       "<div>\n",
       "<style scoped>\n",
       "    .dataframe tbody tr th:only-of-type {\n",
       "        vertical-align: middle;\n",
       "    }\n",
       "\n",
       "    .dataframe tbody tr th {\n",
       "        vertical-align: top;\n",
       "    }\n",
       "\n",
       "    .dataframe thead th {\n",
       "        text-align: right;\n",
       "    }\n",
       "</style>\n",
       "<table border=\"1\" class=\"dataframe\">\n",
       "  <thead>\n",
       "    <tr style=\"text-align: right;\">\n",
       "      <th></th>\n",
       "      <th>Age</th>\n",
       "      <th>Gender</th>\n",
       "      <th>Total_Bilirubin</th>\n",
       "      <th>Direct_Bilirubin</th>\n",
       "      <th>Alkaline_Phosphotase</th>\n",
       "      <th>Alamine_Aminotransferase</th>\n",
       "      <th>Aspartate_Aminotransferase</th>\n",
       "      <th>Total_Protiens</th>\n",
       "      <th>Albumin</th>\n",
       "      <th>Albumin_and_Globulin_Ratio</th>\n",
       "      <th>Dataset</th>\n",
       "    </tr>\n",
       "  </thead>\n",
       "  <tbody>\n",
       "    <tr>\n",
       "      <th>0</th>\n",
       "      <td>65</td>\n",
       "      <td>1</td>\n",
       "      <td>0.7</td>\n",
       "      <td>0.1</td>\n",
       "      <td>187</td>\n",
       "      <td>16</td>\n",
       "      <td>18</td>\n",
       "      <td>6.8</td>\n",
       "      <td>3.3</td>\n",
       "      <td>0.90</td>\n",
       "      <td>1</td>\n",
       "    </tr>\n",
       "    <tr>\n",
       "      <th>1</th>\n",
       "      <td>62</td>\n",
       "      <td>0</td>\n",
       "      <td>10.9</td>\n",
       "      <td>5.5</td>\n",
       "      <td>699</td>\n",
       "      <td>64</td>\n",
       "      <td>100</td>\n",
       "      <td>7.5</td>\n",
       "      <td>3.2</td>\n",
       "      <td>0.74</td>\n",
       "      <td>1</td>\n",
       "    </tr>\n",
       "    <tr>\n",
       "      <th>2</th>\n",
       "      <td>62</td>\n",
       "      <td>0</td>\n",
       "      <td>7.3</td>\n",
       "      <td>4.1</td>\n",
       "      <td>490</td>\n",
       "      <td>60</td>\n",
       "      <td>68</td>\n",
       "      <td>7.0</td>\n",
       "      <td>3.3</td>\n",
       "      <td>0.89</td>\n",
       "      <td>1</td>\n",
       "    </tr>\n",
       "    <tr>\n",
       "      <th>3</th>\n",
       "      <td>58</td>\n",
       "      <td>0</td>\n",
       "      <td>1.0</td>\n",
       "      <td>0.4</td>\n",
       "      <td>182</td>\n",
       "      <td>14</td>\n",
       "      <td>20</td>\n",
       "      <td>6.8</td>\n",
       "      <td>3.4</td>\n",
       "      <td>1.00</td>\n",
       "      <td>1</td>\n",
       "    </tr>\n",
       "    <tr>\n",
       "      <th>4</th>\n",
       "      <td>72</td>\n",
       "      <td>0</td>\n",
       "      <td>3.9</td>\n",
       "      <td>2.0</td>\n",
       "      <td>195</td>\n",
       "      <td>27</td>\n",
       "      <td>59</td>\n",
       "      <td>7.3</td>\n",
       "      <td>2.4</td>\n",
       "      <td>0.40</td>\n",
       "      <td>1</td>\n",
       "    </tr>\n",
       "  </tbody>\n",
       "</table>\n",
       "</div>"
      ],
      "text/plain": [
       "   Age  Gender  Total_Bilirubin  Direct_Bilirubin  Alkaline_Phosphotase  \\\n",
       "0   65       1              0.7               0.1                   187   \n",
       "1   62       0             10.9               5.5                   699   \n",
       "2   62       0              7.3               4.1                   490   \n",
       "3   58       0              1.0               0.4                   182   \n",
       "4   72       0              3.9               2.0                   195   \n",
       "\n",
       "   Alamine_Aminotransferase  Aspartate_Aminotransferase  Total_Protiens  \\\n",
       "0                        16                          18             6.8   \n",
       "1                        64                         100             7.5   \n",
       "2                        60                          68             7.0   \n",
       "3                        14                          20             6.8   \n",
       "4                        27                          59             7.3   \n",
       "\n",
       "   Albumin  Albumin_and_Globulin_Ratio  Dataset  \n",
       "0      3.3                        0.90        1  \n",
       "1      3.2                        0.74        1  \n",
       "2      3.3                        0.89        1  \n",
       "3      3.4                        1.00        1  \n",
       "4      2.4                        0.40        1  "
      ]
     },
     "execution_count": 3,
     "metadata": {},
     "output_type": "execute_result"
    }
   ],
   "source": [
    "df.head()"
   ]
  },
  {
   "cell_type": "code",
   "execution_count": 4,
   "metadata": {
    "ExecuteTime": {
     "end_time": "2019-11-18T11:09:36.018077Z",
     "start_time": "2019-11-18T11:09:36.012080Z"
    }
   },
   "outputs": [],
   "source": [
    "x = df.drop('Dataset', axis=1)\n",
    "y = df['Dataset']"
   ]
  },
  {
   "cell_type": "code",
   "execution_count": 5,
   "metadata": {
    "ExecuteTime": {
     "end_time": "2019-11-18T11:09:36.376078Z",
     "start_time": "2019-11-18T11:09:36.019078Z"
    }
   },
   "outputs": [],
   "source": [
    "# splitting\n",
    "from sklearn.model_selection import train_test_split\n",
    "\n",
    "X_train, X_test, y_train, y_test = train_test_split(x, y, test_size=0.2, random_state=42)"
   ]
  },
  {
   "cell_type": "code",
   "execution_count": null,
   "metadata": {},
   "outputs": [],
   "source": []
  },
  {
   "cell_type": "markdown",
   "metadata": {},
   "source": [
    "### model selection"
   ]
  },
  {
   "cell_type": "code",
   "execution_count": 6,
   "metadata": {
    "ExecuteTime": {
     "end_time": "2019-11-18T11:09:36.688077Z",
     "start_time": "2019-11-18T11:09:36.377078Z"
    }
   },
   "outputs": [],
   "source": [
    "from sklearn.linear_model import LogisticRegression\n",
    "from sklearn.neighbors import KNeighborsClassifier\n",
    "from sklearn.ensemble import RandomForestClassifier\n",
    "from sklearn.svm import SVC\n",
    "from sklearn.metrics import precision_score, f1_score, recall_score, accuracy_score, make_scorer, roc_curve, auc\n",
    "from sklearn.model_selection import GridSearchCV, KFold, cross_val_score"
   ]
  },
  {
   "cell_type": "markdown",
   "metadata": {},
   "source": [
    "#### logistic regression"
   ]
  },
  {
   "cell_type": "code",
   "execution_count": 7,
   "metadata": {
    "ExecuteTime": {
     "end_time": "2019-11-18T11:09:36.719085Z",
     "start_time": "2019-11-18T11:09:36.689077Z"
    }
   },
   "outputs": [
    {
     "name": "stdout",
     "output_type": "stream",
     "text": [
      "Logistic Regression Classifier:\n",
      "Accuracy: 0.7280701754385965\n",
      "Precision: 0.7755102040816326\n",
      "Recall: 0.8941176470588236\n",
      "F-1 score: 0.8306010928961749\n"
     ]
    }
   ],
   "source": [
    "model_lr = LogisticRegression()\n",
    "\n",
    "model_lr.fit(X_train, y_train)\n",
    "\n",
    "print('Logistic Regression Classifier:')\n",
    "print('Accuracy:', model_lr.score(X_test, y_test))\n",
    "print('Precision:', precision_score(y_test, model_lr.predict(X_test)))\n",
    "print('Recall:', recall_score(y_test, model_lr.predict(X_test)))\n",
    "print('F-1 score:', f1_score(y_test, model_lr.predict(X_test)))"
   ]
  },
  {
   "cell_type": "code",
   "execution_count": 8,
   "metadata": {
    "ExecuteTime": {
     "end_time": "2019-11-18T11:09:36.772091Z",
     "start_time": "2019-11-18T11:09:36.722079Z"
    }
   },
   "outputs": [
    {
     "data": {
      "text/plain": [
       "0.719412756028001"
      ]
     },
     "execution_count": 8,
     "metadata": {},
     "output_type": "execute_result"
    }
   ],
   "source": [
    "cross_val_score(model_lr, x, y, cv=10).mean()"
   ]
  },
  {
   "cell_type": "code",
   "execution_count": 9,
   "metadata": {
    "ExecuteTime": {
     "end_time": "2019-11-18T11:09:39.227591Z",
     "start_time": "2019-11-18T11:09:36.775078Z"
    }
   },
   "outputs": [
    {
     "name": "stdout",
     "output_type": "stream",
     "text": [
      "Fitting 5 folds for each of 40 candidates, totalling 200 fits\n"
     ]
    },
    {
     "name": "stderr",
     "output_type": "stream",
     "text": [
      "[Parallel(n_jobs=-1)]: Using backend LokyBackend with 6 concurrent workers.\n",
      "[Parallel(n_jobs=-1)]: Done  29 tasks      | elapsed:    2.0s\n",
      "[Parallel(n_jobs=-1)]: Done 200 out of 200 | elapsed:    2.3s finished\n"
     ]
    }
   ],
   "source": [
    "lg = LogisticRegression()\n",
    "hyperparameters = {'C': np.logspace(-4, 4, 20),\n",
    "                   'penalty' : ['l1', 'l2']}\n",
    "\n",
    "gslg = GridSearchCV(lg, hyperparameters, cv=5, n_jobs=-1, verbose=2)\n",
    "\n",
    "best_gslg = gslg.fit(X_train, y_train)"
   ]
  },
  {
   "cell_type": "code",
   "execution_count": 41,
   "metadata": {
    "ExecuteTime": {
     "end_time": "2019-11-18T11:20:14.787060Z",
     "start_time": "2019-11-18T11:20:14.781084Z"
    }
   },
   "outputs": [
    {
     "data": {
      "text/plain": [
       "LogisticRegression(C=29.763514416313132, class_weight=None, dual=False,\n",
       "                   fit_intercept=True, intercept_scaling=1, l1_ratio=None,\n",
       "                   max_iter=100, multi_class='warn', n_jobs=None, penalty='l2',\n",
       "                   random_state=None, solver='warn', tol=0.0001, verbose=0,\n",
       "                   warm_start=False)"
      ]
     },
     "execution_count": 41,
     "metadata": {},
     "output_type": "execute_result"
    }
   ],
   "source": [
    "best_gslg.best_estimator_"
   ]
  },
  {
   "cell_type": "code",
   "execution_count": 42,
   "metadata": {
    "ExecuteTime": {
     "end_time": "2019-11-18T11:20:21.830582Z",
     "start_time": "2019-11-18T11:20:21.814866Z"
    }
   },
   "outputs": [
    {
     "name": "stdout",
     "output_type": "stream",
     "text": [
      "Logistic Regression Classifier:\n",
      "Accuracy: 0.7105263157894737\n",
      "Precision: 0.776595744680851\n",
      "Recall: 0.8588235294117647\n",
      "F-1 score: 0.8156424581005587\n"
     ]
    }
   ],
   "source": [
    "model_lr = LogisticRegression(C=29.763514416313132, class_weight=None, dual=False,\n",
    "                   fit_intercept=True, intercept_scaling=1, l1_ratio=None,\n",
    "                   max_iter=100, multi_class='warn', n_jobs=None, penalty='l2',\n",
    "                   random_state=None, solver='warn', tol=0.0001, verbose=0,\n",
    "                   warm_start=False)\n",
    "\n",
    "model_lr.fit(X_train, y_train)\n",
    "\n",
    "print('Logistic Regression Classifier:')\n",
    "print('Accuracy:', model_lr.score(X_test, y_test))\n",
    "print('Precision:', precision_score(y_test, model_lr.predict(X_test)))\n",
    "print('Recall:', recall_score(y_test, model_lr.predict(X_test)))\n",
    "print('F-1 score:', f1_score(y_test, model_lr.predict(X_test)))"
   ]
  },
  {
   "cell_type": "code",
   "execution_count": 43,
   "metadata": {
    "ExecuteTime": {
     "end_time": "2019-11-18T11:20:25.472787Z",
     "start_time": "2019-11-18T11:20:25.412760Z"
    }
   },
   "outputs": [
    {
     "data": {
      "text/plain": [
       "0.7071601417336445"
      ]
     },
     "execution_count": 43,
     "metadata": {},
     "output_type": "execute_result"
    }
   ],
   "source": [
    "cross_val_score(model_lr, x, y, cv=10).mean()"
   ]
  },
  {
   "cell_type": "code",
   "execution_count": null,
   "metadata": {},
   "outputs": [],
   "source": []
  },
  {
   "cell_type": "code",
   "execution_count": null,
   "metadata": {},
   "outputs": [],
   "source": []
  },
  {
   "cell_type": "markdown",
   "metadata": {},
   "source": [
    "#### random forest classifier"
   ]
  },
  {
   "cell_type": "code",
   "execution_count": 13,
   "metadata": {
    "ExecuteTime": {
     "end_time": "2019-11-18T11:09:39.373591Z",
     "start_time": "2019-11-18T11:09:39.301591Z"
    }
   },
   "outputs": [
    {
     "name": "stdout",
     "output_type": "stream",
     "text": [
      "Random Forest Classifier:\n",
      "Accuracy: 0.7807017543859649\n",
      "Precision: 0.8191489361702128\n",
      "Recall: 0.9058823529411765\n",
      "F-1 score: 0.8603351955307263\n"
     ]
    }
   ],
   "source": [
    "rfc = RandomForestClassifier(n_estimators=40)\n",
    "\n",
    "rfc.fit(X_train, y_train)\n",
    "print('Random Forest Classifier:')\n",
    "print('Accuracy:', rfc.score(X_test, y_test))\n",
    "print('Precision:', precision_score(y_test, rfc.predict(X_test)))\n",
    "print('Recall:', recall_score(y_test, rfc.predict(X_test)))\n",
    "print('F-1 score:', f1_score(y_test, rfc.predict(X_test)))"
   ]
  },
  {
   "cell_type": "code",
   "execution_count": 14,
   "metadata": {
    "ExecuteTime": {
     "end_time": "2019-11-18T11:17:05.931664Z",
     "start_time": "2019-11-18T11:09:39.375591Z"
    }
   },
   "outputs": [
    {
     "name": "stdout",
     "output_type": "stream",
     "text": [
      "Fitting 5 folds for each of 1152 candidates, totalling 5760 fits\n"
     ]
    },
    {
     "name": "stderr",
     "output_type": "stream",
     "text": [
      "[Parallel(n_jobs=-1)]: Using backend LokyBackend with 6 concurrent workers.\n",
      "[Parallel(n_jobs=-1)]: Done  29 tasks      | elapsed:    3.7s\n",
      "[Parallel(n_jobs=-1)]: Done 150 tasks      | elapsed:   12.3s\n",
      "[Parallel(n_jobs=-1)]: Done 353 tasks      | elapsed:   26.7s\n",
      "[Parallel(n_jobs=-1)]: Done 636 tasks      | elapsed:   48.1s\n",
      "[Parallel(n_jobs=-1)]: Done 1001 tasks      | elapsed:  1.4min\n",
      "[Parallel(n_jobs=-1)]: Done 1446 tasks      | elapsed:  2.0min\n",
      "[Parallel(n_jobs=-1)]: Done 1973 tasks      | elapsed:  2.7min\n",
      "[Parallel(n_jobs=-1)]: Done 2580 tasks      | elapsed:  3.6min\n",
      "[Parallel(n_jobs=-1)]: Done 3269 tasks      | elapsed:  4.4min\n",
      "[Parallel(n_jobs=-1)]: Done 4038 tasks      | elapsed:  5.3min\n",
      "[Parallel(n_jobs=-1)]: Done 4889 tasks      | elapsed:  6.4min\n",
      "[Parallel(n_jobs=-1)]: Done 5760 out of 5760 | elapsed:  7.4min finished\n"
     ]
    }
   ],
   "source": [
    "rfc_ = RandomForestClassifier()\n",
    "hyperparameters = {'n_estimators': [100, 200, 300, 1000],\n",
    "                   'max_depth': [80, 90, 100, 110],\n",
    "                   'min_samples_split': [2,10,20,40,80,100],\n",
    "                   'min_samples_leaf': [2,10,20,40,80,100],\n",
    "                   'max_features': [2, 3]}\n",
    "\n",
    "gsrfc = GridSearchCV(rfc_, hyperparameters, cv=5, n_jobs=-1, verbose=2)\n",
    "\n",
    "best_gsrfc = gsrfc.fit(X_train, y_train)"
   ]
  },
  {
   "cell_type": "code",
   "execution_count": 15,
   "metadata": {
    "ExecuteTime": {
     "end_time": "2019-11-18T11:17:05.937598Z",
     "start_time": "2019-11-18T11:17:05.932567Z"
    }
   },
   "outputs": [
    {
     "data": {
      "text/plain": [
       "RandomForestClassifier(bootstrap=True, class_weight=None, criterion='gini',\n",
       "                       max_depth=110, max_features=2, max_leaf_nodes=None,\n",
       "                       min_impurity_decrease=0.0, min_impurity_split=None,\n",
       "                       min_samples_leaf=10, min_samples_split=100,\n",
       "                       min_weight_fraction_leaf=0.0, n_estimators=300,\n",
       "                       n_jobs=None, oob_score=False, random_state=None,\n",
       "                       verbose=0, warm_start=False)"
      ]
     },
     "execution_count": 15,
     "metadata": {},
     "output_type": "execute_result"
    }
   ],
   "source": [
    "best_gsrfc.best_estimator_"
   ]
  },
  {
   "cell_type": "code",
   "execution_count": 39,
   "metadata": {
    "ExecuteTime": {
     "end_time": "2019-11-18T11:19:59.409129Z",
     "start_time": "2019-11-18T11:19:59.070136Z"
    }
   },
   "outputs": [
    {
     "name": "stdout",
     "output_type": "stream",
     "text": [
      "Random Forest Classifier:\n",
      "Accuracy: 0.7456140350877193\n",
      "Precision: 0.7545454545454545\n",
      "Recall: 0.9764705882352941\n",
      "F-1 score: 0.8512820512820513\n"
     ]
    }
   ],
   "source": [
    "rfc = RandomForestClassifier(bootstrap=True, class_weight=None, criterion='gini',\n",
    "                       max_depth=110, max_features=2, max_leaf_nodes=None,\n",
    "                       min_impurity_decrease=0.0, min_impurity_split=None,\n",
    "                       min_samples_leaf=10, min_samples_split=100,\n",
    "                       min_weight_fraction_leaf=0.0, n_estimators=300,\n",
    "                       n_jobs=None, oob_score=False, random_state=None,\n",
    "                       verbose=0, warm_start=False)\n",
    "\n",
    "rfc.fit(X_train, y_train)\n",
    "print('Random Forest Classifier:')\n",
    "print('Accuracy:', rfc.score(X_test, y_test))\n",
    "print('Precision:', precision_score(y_test, rfc.predict(X_test)))\n",
    "print('Recall:', recall_score(y_test, rfc.predict(X_test)))\n",
    "print('F-1 score:', f1_score(y_test, rfc.predict(X_test)))"
   ]
  },
  {
   "cell_type": "code",
   "execution_count": 40,
   "metadata": {
    "ExecuteTime": {
     "end_time": "2019-11-18T11:20:05.047455Z",
     "start_time": "2019-11-18T11:20:02.293340Z"
    }
   },
   "outputs": [
    {
     "data": {
      "text/plain": [
       "0.7105457609541095"
      ]
     },
     "execution_count": 40,
     "metadata": {},
     "output_type": "execute_result"
    }
   ],
   "source": [
    "cross_val_score(rfc, x, y, cv=10).mean()"
   ]
  },
  {
   "cell_type": "code",
   "execution_count": null,
   "metadata": {},
   "outputs": [],
   "source": []
  },
  {
   "cell_type": "code",
   "execution_count": null,
   "metadata": {},
   "outputs": [],
   "source": []
  },
  {
   "cell_type": "markdown",
   "metadata": {},
   "source": [
    "#### KNN"
   ]
  },
  {
   "cell_type": "code",
   "execution_count": 19,
   "metadata": {
    "ExecuteTime": {
     "end_time": "2019-11-18T11:17:08.244568Z",
     "start_time": "2019-11-18T11:17:08.217569Z"
    }
   },
   "outputs": [
    {
     "name": "stdout",
     "output_type": "stream",
     "text": [
      "k-NN Classifier:\n",
      "Accuracy: 0.6491228070175439\n",
      "Precision: 0.7647058823529411\n",
      "Recall: 0.7647058823529411\n",
      "F-1 score: 0.7647058823529412\n"
     ]
    }
   ],
   "source": [
    "knn = KNeighborsClassifier(n_neighbors=5)\n",
    "\n",
    "knn.fit(X_train, y_train)\n",
    "print('k-NN Classifier:')\n",
    "print('Accuracy:', knn.score(X_test, y_test))\n",
    "print('Precision:', precision_score(y_test, knn.predict(X_test)))\n",
    "print('Recall:', recall_score(y_test, knn.predict(X_test)))\n",
    "print('F-1 score:', f1_score(y_test, knn.predict(X_test)))"
   ]
  },
  {
   "cell_type": "code",
   "execution_count": null,
   "metadata": {},
   "outputs": [],
   "source": []
  },
  {
   "cell_type": "code",
   "execution_count": 20,
   "metadata": {
    "ExecuteTime": {
     "end_time": "2019-11-18T11:17:09.503570Z",
     "start_time": "2019-11-18T11:17:08.245576Z"
    }
   },
   "outputs": [
    {
     "name": "stdout",
     "output_type": "stream",
     "text": [
      "The optimal number of neighbors is 27\n"
     ]
    },
    {
     "data": {
      "image/png": "[encoded data removed]",
      "text/plain": [
       "<Figure size 432x288 with 1 Axes>"
      ]
     },
     "metadata": {
      "needs_background": "light"
     },
     "output_type": "display_data"
    }
   ],
   "source": [
    "neighbors = list(range(1, 50, 2))\n",
    "cv_scores = []\n",
    "\n",
    "for k in neighbors:\n",
    "    knn_t = KNeighborsClassifier(n_neighbors=k)\n",
    "    scores = cross_val_score(knn_t, X_train, y_train, cv=10, scoring='accuracy')\n",
    "    cv_scores.append(scores.mean())\n",
    "\n",
    "mse = [1 - x for x in cv_scores]\n",
    "\n",
    "optimal_k = neighbors[mse.index(min(mse))]\n",
    "print('The optimal number of neighbors is {}'.format(optimal_k))\n",
    "\n",
    "plt.plot(neighbors, mse)\n",
    "plt.xlabel('Number of Neighbors K')\n",
    "plt.ylabel('Misclassification Error')\n",
    "plt.show()"
   ]
  },
  {
   "cell_type": "code",
   "execution_count": null,
   "metadata": {},
   "outputs": [],
   "source": []
  },
  {
   "cell_type": "code",
   "execution_count": 31,
   "metadata": {
    "ExecuteTime": {
     "end_time": "2019-11-18T11:18:59.249036Z",
     "start_time": "2019-11-18T11:18:59.222030Z"
    }
   },
   "outputs": [
    {
     "name": "stdout",
     "output_type": "stream",
     "text": [
      "k-NN Classifier:\n",
      "Accuracy: 0.7105263157894737\n",
      "Precision: 0.776595744680851\n",
      "Recall: 0.8588235294117647\n",
      "F-1 score: 0.8156424581005587\n"
     ]
    }
   ],
   "source": [
    "knn = KNeighborsClassifier(n_neighbors=27)\n",
    "\n",
    "knn.fit(X_train, y_train)\n",
    "print('k-NN Classifier:')\n",
    "print('Accuracy:', knn.score(X_test, y_test))\n",
    "print('Precision:', precision_score(y_test, knn.predict(X_test)))\n",
    "print('Recall:', recall_score(y_test, knn.predict(X_test)))\n",
    "print('F-1 score:', f1_score(y_test, knn.predict(X_test)))"
   ]
  },
  {
   "cell_type": "code",
   "execution_count": 32,
   "metadata": {
    "ExecuteTime": {
     "end_time": "2019-11-18T11:19:05.640319Z",
     "start_time": "2019-11-18T11:19:05.589295Z"
    }
   },
   "outputs": [
    {
     "data": {
      "text/plain": [
       "0.7019553193328147"
      ]
     },
     "execution_count": 32,
     "metadata": {},
     "output_type": "execute_result"
    }
   ],
   "source": [
    "cross_val_score(KNeighborsClassifier(n_neighbors=27), x, y, cv=10, scoring='accuracy').mean()"
   ]
  },
  {
   "cell_type": "code",
   "execution_count": null,
   "metadata": {},
   "outputs": [],
   "source": []
  },
  {
   "cell_type": "markdown",
   "metadata": {},
   "source": [
    "#### SVC"
   ]
  },
  {
   "cell_type": "code",
   "execution_count": 33,
   "metadata": {
    "ExecuteTime": {
     "end_time": "2019-11-18T11:19:12.735462Z",
     "start_time": "2019-11-18T11:19:12.661454Z"
    }
   },
   "outputs": [
    {
     "name": "stdout",
     "output_type": "stream",
     "text": [
      "SVC:\n",
      "Accuracy: 0.7456140350877193\n",
      "Precision: 0.7456140350877193\n",
      "Recall: 1.0\n",
      "F-1 score: 0.8542713567839196\n"
     ]
    }
   ],
   "source": [
    "svm = SVC(gamma='auto', probability=True)\n",
    "\n",
    "svm.fit(X_train, y_train)\n",
    "print('SVC:')\n",
    "print('Accuracy:', svm.score(X_test, y_test))\n",
    "print('Precision:', precision_score(y_test, svm.predict(X_test)))\n",
    "print('Recall:', recall_score(y_test, svm.predict(X_test)))\n",
    "print('F-1 score:', f1_score(y_test, svm.predict(X_test)))"
   ]
  },
  {
   "cell_type": "code",
   "execution_count": 34,
   "metadata": {
    "ExecuteTime": {
     "end_time": "2019-11-18T11:19:14.529485Z",
     "start_time": "2019-11-18T11:19:13.830160Z"
    }
   },
   "outputs": [
    {
     "data": {
      "text/plain": [
       "0.7123325555267479"
      ]
     },
     "execution_count": 34,
     "metadata": {},
     "output_type": "execute_result"
    }
   ],
   "source": [
    "cross_val_score(svm, x, y, cv=10).mean()"
   ]
  },
  {
   "cell_type": "code",
   "execution_count": 35,
   "metadata": {
    "ExecuteTime": {
     "end_time": "2019-11-18T11:19:18.440692Z",
     "start_time": "2019-11-18T11:19:16.365713Z"
    }
   },
   "outputs": [
    {
     "name": "stdout",
     "output_type": "stream",
     "text": [
      "Fitting 5 folds for each of 20 candidates, totalling 100 fits\n"
     ]
    },
    {
     "name": "stderr",
     "output_type": "stream",
     "text": [
      "[Parallel(n_jobs=-1)]: Using backend LokyBackend with 6 concurrent workers.\n",
      "[Parallel(n_jobs=-1)]: Done  29 tasks      | elapsed:    1.6s\n",
      "[Parallel(n_jobs=-1)]: Done 100 out of 100 | elapsed:    1.7s finished\n"
     ]
    }
   ],
   "source": [
    "svc_ = SVC()\n",
    "\n",
    "hyperparameters = {'C': [0.001, 0.01, 0.1, 1, 10],\n",
    "                   'gamma' : [0.001, 0.01, 0.1, 1]}\n",
    "\n",
    "gssvc = GridSearchCV(svc_, hyperparameters, cv=5, n_jobs=-1, verbose=2)\n",
    "\n",
    "best_gssvc = gssvc.fit(X_train, y_train)"
   ]
  },
  {
   "cell_type": "code",
   "execution_count": 36,
   "metadata": {
    "ExecuteTime": {
     "end_time": "2019-11-18T11:19:21.200760Z",
     "start_time": "2019-11-18T11:19:21.196777Z"
    }
   },
   "outputs": [
    {
     "data": {
      "text/plain": [
       "SVC(C=1, cache_size=200, class_weight=None, coef0=0.0,\n",
       "    decision_function_shape='ovr', degree=3, gamma=0.01, kernel='rbf',\n",
       "    max_iter=-1, probability=False, random_state=None, shrinking=True,\n",
       "    tol=0.001, verbose=False)"
      ]
     },
     "execution_count": 36,
     "metadata": {},
     "output_type": "execute_result"
    }
   ],
   "source": [
    "best_gssvc.best_estimator_"
   ]
  },
  {
   "cell_type": "code",
   "execution_count": 37,
   "metadata": {
    "ExecuteTime": {
     "end_time": "2019-11-18T11:19:31.484334Z",
     "start_time": "2019-11-18T11:19:31.453325Z"
    }
   },
   "outputs": [
    {
     "name": "stdout",
     "output_type": "stream",
     "text": [
      "SVC:\n",
      "Accuracy: 0.7192982456140351\n",
      "Precision: 0.7676767676767676\n",
      "Recall: 0.8941176470588236\n",
      "F-1 score: 0.826086956521739\n"
     ]
    }
   ],
   "source": [
    "svm = SVC(C=1, cache_size=200, class_weight=None, coef0=0.0,\n",
    "    decision_function_shape='ovr', degree=3, gamma=0.01, kernel='rbf',\n",
    "    max_iter=-1, probability=False, random_state=None, shrinking=True,\n",
    "    tol=0.001, verbose=False)\n",
    "\n",
    "svm.fit(X_train, y_train)\n",
    "print('SVC:')\n",
    "print('Accuracy:', svm.score(X_test, y_test))\n",
    "print('Precision:', precision_score(y_test, svm.predict(X_test)))\n",
    "print('Recall:', recall_score(y_test, svm.predict(X_test)))\n",
    "print('F-1 score:', f1_score(y_test, svm.predict(X_test)))"
   ]
  },
  {
   "cell_type": "code",
   "execution_count": 38,
   "metadata": {
    "ExecuteTime": {
     "end_time": "2019-11-18T11:19:33.517134Z",
     "start_time": "2019-11-18T11:19:33.373136Z"
    }
   },
   "outputs": [
    {
     "data": {
      "text/plain": [
       "0.7140880217785844"
      ]
     },
     "execution_count": 38,
     "metadata": {},
     "output_type": "execute_result"
    }
   ],
   "source": [
    "cross_val_score(svm, x, y, cv=10).mean()"
   ]
  },
  {
   "cell_type": "code",
   "execution_count": null,
   "metadata": {},
   "outputs": [],
   "source": []
  },
  {
   "cell_type": "markdown",
   "metadata": {},
   "source": [
    "#### comparing model (after hyperparam tuning)"
   ]
  },
  {
   "cell_type": "code",
   "execution_count": 44,
   "metadata": {
    "ExecuteTime": {
     "end_time": "2019-11-18T11:20:32.849812Z",
     "start_time": "2019-11-18T11:20:29.717267Z"
    }
   },
   "outputs": [
    {
     "data": {
      "text/html": [
       "<div>\n",
       "<style scoped>\n",
       "    .dataframe tbody tr th:only-of-type {\n",
       "        vertical-align: middle;\n",
       "    }\n",
       "\n",
       "    .dataframe tbody tr th {\n",
       "        vertical-align: top;\n",
       "    }\n",
       "\n",
       "    .dataframe thead th {\n",
       "        text-align: right;\n",
       "    }\n",
       "</style>\n",
       "<table border=\"1\" class=\"dataframe\">\n",
       "  <thead>\n",
       "    <tr style=\"text-align: right;\">\n",
       "      <th></th>\n",
       "      <th>model</th>\n",
       "      <th>Accuracy</th>\n",
       "      <th>Precision</th>\n",
       "      <th>Recall</th>\n",
       "      <th>F-1 score</th>\n",
       "      <th>Cross Val Score</th>\n",
       "    </tr>\n",
       "  </thead>\n",
       "  <tbody>\n",
       "    <tr>\n",
       "      <th>0</th>\n",
       "      <td>logistic regression</td>\n",
       "      <td>0.710526</td>\n",
       "      <td>0.776596</td>\n",
       "      <td>0.858824</td>\n",
       "      <td>0.815642</td>\n",
       "      <td>0.707160</td>\n",
       "    </tr>\n",
       "    <tr>\n",
       "      <th>1</th>\n",
       "      <td>rfc</td>\n",
       "      <td>0.745614</td>\n",
       "      <td>0.754545</td>\n",
       "      <td>0.976471</td>\n",
       "      <td>0.851282</td>\n",
       "      <td>0.722830</td>\n",
       "    </tr>\n",
       "    <tr>\n",
       "      <th>2</th>\n",
       "      <td>knn</td>\n",
       "      <td>0.710526</td>\n",
       "      <td>0.776596</td>\n",
       "      <td>0.858824</td>\n",
       "      <td>0.815642</td>\n",
       "      <td>0.701955</td>\n",
       "    </tr>\n",
       "    <tr>\n",
       "      <th>3</th>\n",
       "      <td>svc</td>\n",
       "      <td>0.719298</td>\n",
       "      <td>0.767677</td>\n",
       "      <td>0.894118</td>\n",
       "      <td>0.826087</td>\n",
       "      <td>0.714088</td>\n",
       "    </tr>\n",
       "  </tbody>\n",
       "</table>\n",
       "</div>"
      ],
      "text/plain": [
       "                 model  Accuracy  Precision    Recall  F-1 score  \\\n",
       "0  logistic regression  0.710526   0.776596  0.858824   0.815642   \n",
       "1                  rfc  0.745614   0.754545  0.976471   0.851282   \n",
       "2                  knn  0.710526   0.776596  0.858824   0.815642   \n",
       "3                  svc  0.719298   0.767677  0.894118   0.826087   \n",
       "\n",
       "   Cross Val Score  \n",
       "0         0.707160  \n",
       "1         0.722830  \n",
       "2         0.701955  \n",
       "3         0.714088  "
      ]
     },
     "execution_count": 44,
     "metadata": {},
     "output_type": "execute_result"
    }
   ],
   "source": [
    "a = [['logistic regression',model_lr.score(X_test, y_test),precision_score(y_test, model_lr.predict(X_test)), recall_score(y_test, model_lr.predict(X_test)),f1_score(y_test, model_lr.predict(X_test)), cross_val_score(model_lr, x, y, cv=10).mean()],\n",
    "     ['rfc', rfc.score(X_test, y_test),precision_score(y_test, rfc.predict(X_test)),recall_score(y_test, rfc.predict(X_test)),f1_score(y_test, rfc.predict(X_test)), cross_val_score(rfc, x, y, cv=10).mean()],\n",
    "     ['knn', knn.score(X_test, y_test), precision_score(y_test, knn.predict(X_test)),recall_score(y_test, knn.predict(X_test)), f1_score(y_test, knn.predict(X_test)), cross_val_score(knn, x, y, cv=10).mean()],\n",
    "     ['svc', svm.score(X_test, y_test), precision_score(y_test, svm.predict(X_test)),recall_score(y_test, svm.predict(X_test)), f1_score(y_test, svm.predict(X_test)), cross_val_score(svm, x, y, cv=10).mean()]\n",
    "     ]\n",
    "\n",
    "dfcompare = pd.DataFrame(a, columns=['model', 'Accuracy','Precision','Recall','F-1 score','Cross Val Score'])\n",
    "dfcompare\n"
   ]
  },
  {
   "cell_type": "code",
   "execution_count": 45,
   "metadata": {
    "ExecuteTime": {
     "end_time": "2019-11-18T11:21:12.534537Z",
     "start_time": "2019-11-18T11:21:12.525536Z"
    }
   },
   "outputs": [
    {
     "data": {
      "text/plain": [
       "1    406\n",
       "0    164\n",
       "Name: Dataset, dtype: int64"
      ]
     },
     "execution_count": 45,
     "metadata": {},
     "output_type": "execute_result"
    }
   ],
   "source": [
    "y.value_counts()"
   ]
  },
  {
   "cell_type": "markdown",
   "metadata": {},
   "source": [
    "Dari pengujian tersebut dan feature 'dataset' (disease or not) yang tidak seimbang (imbalance) saya memutuskan untuk memilih menggunakan random forest, karena nilai f-1 score-nya paling tinggi di antara model lainnya."
   ]
  },
  {
   "cell_type": "code",
   "execution_count": 46,
   "metadata": {
    "ExecuteTime": {
     "end_time": "2019-11-18T11:22:36.193809Z",
     "start_time": "2019-11-18T11:22:36.180835Z"
    }
   },
   "outputs": [],
   "source": [
    "import pickle\n",
    "\n",
    "pickle.dump(rfc, open('model_ilp', 'wb'))"
   ]
  },
  {
   "cell_type": "code",
   "execution_count": 47,
   "metadata": {
    "ExecuteTime": {
     "end_time": "2019-11-18T11:22:37.899679Z",
     "start_time": "2019-11-18T11:22:37.884117Z"
    }
   },
   "outputs": [],
   "source": [
    "loadModel = pickle.load(open('model_ilp', 'rb'))"
   ]
  },
  {
   "cell_type": "code",
   "execution_count": 48,
   "metadata": {
    "ExecuteTime": {
     "end_time": "2019-11-18T11:22:39.569932Z",
     "start_time": "2019-11-18T11:22:39.565912Z"
    }
   },
   "outputs": [
    {
     "data": {
      "text/plain": [
       "RandomForestClassifier(bootstrap=True, class_weight=None, criterion='gini',\n",
       "                       max_depth=110, max_features=2, max_leaf_nodes=None,\n",
       "                       min_impurity_decrease=0.0, min_impurity_split=None,\n",
       "                       min_samples_leaf=10, min_samples_split=100,\n",
       "                       min_weight_fraction_leaf=0.0, n_estimators=300,\n",
       "                       n_jobs=None, oob_score=False, random_state=None,\n",
       "                       verbose=0, warm_start=False)"
      ]
     },
     "execution_count": 48,
     "metadata": {},
     "output_type": "execute_result"
    }
   ],
   "source": [
    "loadModel"
   ]
  },
  {
   "cell_type": "code",
   "execution_count": null,
   "metadata": {},
   "outputs": [],
   "source": []
  }
 ],
 "metadata": {
  "kernelspec": {
   "display_name": "Python 3",
   "language": "python",
   "name": "python3"
  },
  "language_info": {
   "codemirror_mode": {
    "name": "ipython",
    "version": 3
   },
   "file_extension": ".py",
   "mimetype": "text/x-python",
   "name": "python",
   "nbconvert_exporter": "python",
   "pygments_lexer": "ipython3",
   "version": "3.7.5"
  },
  "varInspector": {
   "cols": {
    "lenName": 16,
    "lenType": 16,
    "lenVar": 40
   },
   "kernels_config": {
    "python": {
     "delete_cmd_postfix": "",
     "delete_cmd_prefix": "del ",
     "library": "var_list.py",
     "varRefreshCmd": "print(var_dic_list())"
    },
    "r": {
     "delete_cmd_postfix": ") ",
     "delete_cmd_prefix": "rm(",
     "library": "var_list.r",
     "varRefreshCmd": "cat(var_dic_list()) "
    }
   },
   "types_to_exclude": [
    "module",
    "function",
    "builtin_function_or_method",
    "instance",
    "_Feature"
   ],
   "window_display": false
  }
 },
 "nbformat": 4,
 "nbformat_minor": 2
}
