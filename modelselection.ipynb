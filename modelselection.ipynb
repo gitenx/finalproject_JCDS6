{
 "cells": [
  {
   "cell_type": "code",
   "execution_count": 1,
   "metadata": {
    "ExecuteTime": {
     "end_time": "2019-11-19T16:10:03.895289Z",
     "start_time": "2019-11-19T16:10:02.732339Z"
    }
   },
   "outputs": [],
   "source": [
    "import pandas as pd\n",
    "import numpy as np\n",
    "import matplotlib.pyplot as plt\n",
    "import seaborn as sns\n",
    "import warnings\n",
    "\n",
    "%matplotlib inline\n",
    "sns.set_style('darkgrid')\n",
    "warnings.filterwarnings('ignore')"
   ]
  },
  {
   "cell_type": "code",
   "execution_count": 2,
   "metadata": {
    "ExecuteTime": {
     "end_time": "2019-11-19T16:10:03.901215Z",
     "start_time": "2019-11-19T16:10:03.896191Z"
    }
   },
   "outputs": [],
   "source": [
    "df = pd.read_csv('data/indian_liver_patient_final.csv')"
   ]
  },
  {
   "cell_type": "code",
   "execution_count": 3,
   "metadata": {
    "ExecuteTime": {
     "end_time": "2019-11-19T16:10:03.917191Z",
     "start_time": "2019-11-19T16:10:03.902191Z"
    }
   },
   "outputs": [
    {
     "data": {
      "text/html": [
       "<div>\n",
       "<style scoped>\n",
       "    .dataframe tbody tr th:only-of-type {\n",
       "        vertical-align: middle;\n",
       "    }\n",
       "\n",
       "    .dataframe tbody tr th {\n",
       "        vertical-align: top;\n",
       "    }\n",
       "\n",
       "    .dataframe thead th {\n",
       "        text-align: right;\n",
       "    }\n",
       "</style>\n",
       "<table border=\"1\" class=\"dataframe\">\n",
       "  <thead>\n",
       "    <tr style=\"text-align: right;\">\n",
       "      <th></th>\n",
       "      <th>Age</th>\n",
       "      <th>Gender</th>\n",
       "      <th>Total_Bilirubin</th>\n",
       "      <th>Direct_Bilirubin</th>\n",
       "      <th>Indirect_Bilirubin</th>\n",
       "      <th>Alkaline_Phosphotase</th>\n",
       "      <th>Alamine_Aminotransferase</th>\n",
       "      <th>Aspartate_Aminotransferase</th>\n",
       "      <th>Total_Proteins</th>\n",
       "      <th>Albumin</th>\n",
       "      <th>Albumin_and_Globulin_Ratio</th>\n",
       "      <th>Dataset</th>\n",
       "    </tr>\n",
       "  </thead>\n",
       "  <tbody>\n",
       "    <tr>\n",
       "      <th>0</th>\n",
       "      <td>65</td>\n",
       "      <td>1</td>\n",
       "      <td>0.7</td>\n",
       "      <td>0.1</td>\n",
       "      <td>0.6</td>\n",
       "      <td>187</td>\n",
       "      <td>16</td>\n",
       "      <td>18</td>\n",
       "      <td>6.8</td>\n",
       "      <td>3.3</td>\n",
       "      <td>0.90</td>\n",
       "      <td>1</td>\n",
       "    </tr>\n",
       "    <tr>\n",
       "      <th>1</th>\n",
       "      <td>62</td>\n",
       "      <td>0</td>\n",
       "      <td>10.9</td>\n",
       "      <td>5.5</td>\n",
       "      <td>5.4</td>\n",
       "      <td>699</td>\n",
       "      <td>64</td>\n",
       "      <td>100</td>\n",
       "      <td>7.5</td>\n",
       "      <td>3.2</td>\n",
       "      <td>0.74</td>\n",
       "      <td>1</td>\n",
       "    </tr>\n",
       "    <tr>\n",
       "      <th>2</th>\n",
       "      <td>62</td>\n",
       "      <td>0</td>\n",
       "      <td>7.3</td>\n",
       "      <td>4.1</td>\n",
       "      <td>3.2</td>\n",
       "      <td>490</td>\n",
       "      <td>60</td>\n",
       "      <td>68</td>\n",
       "      <td>7.0</td>\n",
       "      <td>3.3</td>\n",
       "      <td>0.89</td>\n",
       "      <td>1</td>\n",
       "    </tr>\n",
       "    <tr>\n",
       "      <th>3</th>\n",
       "      <td>58</td>\n",
       "      <td>0</td>\n",
       "      <td>1.0</td>\n",
       "      <td>0.4</td>\n",
       "      <td>0.6</td>\n",
       "      <td>182</td>\n",
       "      <td>14</td>\n",
       "      <td>20</td>\n",
       "      <td>6.8</td>\n",
       "      <td>3.4</td>\n",
       "      <td>1.00</td>\n",
       "      <td>1</td>\n",
       "    </tr>\n",
       "    <tr>\n",
       "      <th>4</th>\n",
       "      <td>72</td>\n",
       "      <td>0</td>\n",
       "      <td>3.9</td>\n",
       "      <td>2.0</td>\n",
       "      <td>1.9</td>\n",
       "      <td>195</td>\n",
       "      <td>27</td>\n",
       "      <td>59</td>\n",
       "      <td>7.3</td>\n",
       "      <td>2.4</td>\n",
       "      <td>0.40</td>\n",
       "      <td>1</td>\n",
       "    </tr>\n",
       "  </tbody>\n",
       "</table>\n",
       "</div>"
      ],
      "text/plain": [
       "   Age  Gender  Total_Bilirubin  Direct_Bilirubin  Indirect_Bilirubin  \\\n",
       "0   65       1              0.7               0.1                 0.6   \n",
       "1   62       0             10.9               5.5                 5.4   \n",
       "2   62       0              7.3               4.1                 3.2   \n",
       "3   58       0              1.0               0.4                 0.6   \n",
       "4   72       0              3.9               2.0                 1.9   \n",
       "\n",
       "   Alkaline_Phosphotase  Alamine_Aminotransferase  Aspartate_Aminotransferase  \\\n",
       "0                   187                        16                          18   \n",
       "1                   699                        64                         100   \n",
       "2                   490                        60                          68   \n",
       "3                   182                        14                          20   \n",
       "4                   195                        27                          59   \n",
       "\n",
       "   Total_Proteins  Albumin  Albumin_and_Globulin_Ratio  Dataset  \n",
       "0             6.8      3.3                        0.90        1  \n",
       "1             7.5      3.2                        0.74        1  \n",
       "2             7.0      3.3                        0.89        1  \n",
       "3             6.8      3.4                        1.00        1  \n",
       "4             7.3      2.4                        0.40        1  "
      ]
     },
     "execution_count": 3,
     "metadata": {},
     "output_type": "execute_result"
    }
   ],
   "source": [
    "df.head()"
   ]
  },
  {
   "cell_type": "code",
   "execution_count": 4,
   "metadata": {
    "ExecuteTime": {
     "end_time": "2019-11-19T16:10:03.924211Z",
     "start_time": "2019-11-19T16:10:03.919193Z"
    }
   },
   "outputs": [],
   "source": [
    "x = df.drop('Dataset', axis=1)\n",
    "y = df['Dataset']"
   ]
  },
  {
   "cell_type": "code",
   "execution_count": 5,
   "metadata": {
    "ExecuteTime": {
     "end_time": "2019-11-19T16:10:04.067200Z",
     "start_time": "2019-11-19T16:10:03.925203Z"
    }
   },
   "outputs": [],
   "source": [
    "# splitting\n",
    "from sklearn.model_selection import train_test_split\n",
    "\n",
    "X_train, X_test, y_train, y_test = train_test_split(x, y, test_size=0.2, random_state=42)"
   ]
  },
  {
   "cell_type": "code",
   "execution_count": null,
   "metadata": {},
   "outputs": [],
   "source": []
  },
  {
   "cell_type": "code",
   "execution_count": null,
   "metadata": {},
   "outputs": [],
   "source": []
  },
  {
   "cell_type": "markdown",
   "metadata": {},
   "source": [
    "### model selection"
   ]
  },
  {
   "cell_type": "code",
   "execution_count": 6,
   "metadata": {
    "ExecuteTime": {
     "end_time": "2019-11-19T16:10:04.119201Z",
     "start_time": "2019-11-19T16:10:04.068191Z"
    }
   },
   "outputs": [],
   "source": [
    "from sklearn.linear_model import LogisticRegression\n",
    "from sklearn.neighbors import KNeighborsClassifier\n",
    "from sklearn.ensemble import RandomForestClassifier\n",
    "from sklearn.svm import SVC\n",
    "from sklearn.metrics import precision_score, f1_score, recall_score, accuracy_score, make_scorer, roc_curve, auc, roc_auc_score\n",
    "from sklearn.model_selection import GridSearchCV, KFold, cross_val_score\n",
    "from math import sqrt"
   ]
  },
  {
   "cell_type": "markdown",
   "metadata": {},
   "source": [
    "#### logistic regression (full feature)"
   ]
  },
  {
   "cell_type": "code",
   "execution_count": 7,
   "metadata": {
    "ExecuteTime": {
     "end_time": "2019-11-19T16:10:04.136192Z",
     "start_time": "2019-11-19T16:10:04.120191Z"
    }
   },
   "outputs": [
    {
     "name": "stdout",
     "output_type": "stream",
     "text": [
      "Logistic Regression Classifier:\n",
      "Accuracy: 0.7435897435897436\n",
      "Precision: 0.7714285714285715\n",
      "Recall: 0.9310344827586207\n",
      "F-1 score: 0.8437500000000001\n"
     ]
    }
   ],
   "source": [
    "model_lr = LogisticRegression()\n",
    "\n",
    "model_lr.fit(X_train, y_train)\n",
    "\n",
    "print('Logistic Regression Classifier:')\n",
    "print('Accuracy:', model_lr.score(X_test, y_test))\n",
    "print('Precision:', precision_score(y_test, model_lr.predict(X_test)))\n",
    "print('Recall:', recall_score(y_test, model_lr.predict(X_test)))\n",
    "print('F-1 score:', f1_score(y_test, model_lr.predict(X_test)))"
   ]
  },
  {
   "cell_type": "code",
   "execution_count": 8,
   "metadata": {
    "ExecuteTime": {
     "end_time": "2019-11-19T16:10:04.190191Z",
     "start_time": "2019-11-19T16:10:04.138193Z"
    }
   },
   "outputs": [
    {
     "data": {
      "text/plain": [
       "0.7170480995006511"
      ]
     },
     "execution_count": 8,
     "metadata": {},
     "output_type": "execute_result"
    }
   ],
   "source": [
    "cross_val_score(model_lr, x, y, cv=10).mean()"
   ]
  },
  {
   "cell_type": "code",
   "execution_count": 9,
   "metadata": {
    "ExecuteTime": {
     "end_time": "2019-11-19T16:10:06.331224Z",
     "start_time": "2019-11-19T16:10:04.191191Z"
    }
   },
   "outputs": [
    {
     "name": "stdout",
     "output_type": "stream",
     "text": [
      "Fitting 5 folds for each of 40 candidates, totalling 200 fits\n"
     ]
    },
    {
     "name": "stderr",
     "output_type": "stream",
     "text": [
      "[Parallel(n_jobs=-1)]: Using backend LokyBackend with 6 concurrent workers.\n",
      "[Parallel(n_jobs=-1)]: Done  29 tasks      | elapsed:    1.7s\n",
      "[Parallel(n_jobs=-1)]: Done 200 out of 200 | elapsed:    2.0s finished\n",
      "C:\\Users\\EN\\Anaconda3\\lib\\site-packages\\sklearn\\model_selection\\_search.py:814: DeprecationWarning: The default of the `iid` parameter will change from True to False in version 0.22 and will be removed in 0.24. This will change numeric results when test-set sizes are unequal.\n",
      "  DeprecationWarning)\n"
     ]
    }
   ],
   "source": [
    "lg = LogisticRegression()\n",
    "hyperparameters = {'C': np.logspace(-4, 4, 20),\n",
    "                   'penalty' : ['l1', 'l2']}\n",
    "\n",
    "gslg = GridSearchCV(lg, hyperparameters, cv=5, n_jobs=-1, verbose=2)\n",
    "\n",
    "best_gslg = gslg.fit(X_train, y_train)"
   ]
  },
  {
   "cell_type": "code",
   "execution_count": 10,
   "metadata": {
    "ExecuteTime": {
     "end_time": "2019-11-19T16:10:06.336225Z",
     "start_time": "2019-11-19T16:10:06.332224Z"
    }
   },
   "outputs": [
    {
     "data": {
      "text/plain": [
       "LogisticRegression(C=0.0001, class_weight=None, dual=False, fit_intercept=True,\n",
       "                   intercept_scaling=1, l1_ratio=None, max_iter=100,\n",
       "                   multi_class='warn', n_jobs=None, penalty='l1',\n",
       "                   random_state=None, solver='warn', tol=0.0001, verbose=0,\n",
       "                   warm_start=False)"
      ]
     },
     "execution_count": 10,
     "metadata": {},
     "output_type": "execute_result"
    }
   ],
   "source": [
    "best_gslg.best_estimator_"
   ]
  },
  {
   "cell_type": "code",
   "execution_count": 11,
   "metadata": {
    "ExecuteTime": {
     "end_time": "2019-11-19T16:10:06.351224Z",
     "start_time": "2019-11-19T16:10:06.337224Z"
    }
   },
   "outputs": [
    {
     "name": "stdout",
     "output_type": "stream",
     "text": [
      "Logistic Regression Classifier:\n",
      "Accuracy: 0.7435897435897436\n",
      "Precision: 0.7435897435897436\n",
      "Recall: 1.0\n",
      "F-1 score: 0.8529411764705882\n"
     ]
    }
   ],
   "source": [
    "model_lr = LogisticRegression(C=0.0001, class_weight=None, dual=False, fit_intercept=True,\n",
    "                   intercept_scaling=1, l1_ratio=None, max_iter=100,\n",
    "                   multi_class='warn', n_jobs=None, penalty='l1',\n",
    "                   random_state=None, solver='warn', tol=0.0001, verbose=0,\n",
    "                   warm_start=False)\n",
    "\n",
    "model_lr.fit(X_train, y_train)\n",
    "\n",
    "print('Logistic Regression Classifier:')\n",
    "print('Accuracy:', model_lr.score(X_test, y_test))\n",
    "print('Precision:', precision_score(y_test, model_lr.predict(X_test)))\n",
    "print('Recall:', recall_score(y_test, model_lr.predict(X_test)))\n",
    "print('F-1 score:', f1_score(y_test, model_lr.predict(X_test)))"
   ]
  },
  {
   "cell_type": "code",
   "execution_count": 12,
   "metadata": {
    "ExecuteTime": {
     "end_time": "2019-11-19T16:10:06.383224Z",
     "start_time": "2019-11-19T16:10:06.352224Z"
    }
   },
   "outputs": [
    {
     "data": {
      "text/plain": [
       "0.7135977729244208"
      ]
     },
     "execution_count": 12,
     "metadata": {},
     "output_type": "execute_result"
    }
   ],
   "source": [
    "cross_val_score(model_lr, x, y, cv=10).mean()"
   ]
  },
  {
   "cell_type": "code",
   "execution_count": 13,
   "metadata": {
    "ExecuteTime": {
     "end_time": "2019-11-19T16:10:06.602224Z",
     "start_time": "2019-11-19T16:10:06.384225Z"
    }
   },
   "outputs": [
    {
     "name": "stdout",
     "output_type": "stream",
     "text": [
      "No Skill: ROC AUC=0.500\n",
      "Logistic: ROC AUC=0.740\n"
     ]
    },
    {
     "data": {
      "text/plain": [
       "<matplotlib.legend.Legend at 0x1942fce26c8>"
      ]
     },
     "execution_count": 13,
     "metadata": {},
     "output_type": "execute_result"
    },
    {
     "data": {
      "image/png": "[encoded data removed]",
      "text/plain": [
       "<Figure size 432x288 with 1 Axes>"
      ]
     },
     "metadata": {
      "needs_background": "light"
     },
     "output_type": "display_data"
    }
   ],
   "source": [
    "lr_probs = model_lr.predict_proba(X_test)\n",
    "lr_probs = lr_probs[:, 1]\n",
    "\n",
    "nd_probs = [0 for _ in range(len(y_test))]\n",
    "\n",
    "nd_auc = roc_auc_score(y_test, nd_probs)\n",
    "lr_auc = roc_auc_score(y_test, lr_probs)\n",
    "\n",
    "print('No Skill: ROC AUC=%.3f' % (nd_auc))\n",
    "print('Logistic: ROC AUC=%.3f' % (lr_auc))\n",
    "\n",
    "nd_fpr, nd_tpr, _ = roc_curve(y_test, nd_probs)\n",
    "lr_fpr, lr_tpr, _ = roc_curve(y_test, lr_probs)\n",
    "\n",
    "plt.plot(nd_fpr, nd_tpr, linestyle='--', label='No Disease')\n",
    "plt.plot(lr_fpr, lr_tpr, marker='.', label='Logistic')\n",
    "\n",
    "plt.xlabel('False Positive Rate')\n",
    "plt.ylabel('True Positive Rate')\n",
    "\n",
    "plt.legend()"
   ]
  },
  {
   "cell_type": "code",
   "execution_count": null,
   "metadata": {},
   "outputs": [],
   "source": []
  },
  {
   "cell_type": "code",
   "execution_count": null,
   "metadata": {},
   "outputs": [],
   "source": []
  },
  {
   "cell_type": "markdown",
   "metadata": {},
   "source": [
    "#### random forest classifier"
   ]
  },
  {
   "cell_type": "code",
   "execution_count": 14,
   "metadata": {
    "ExecuteTime": {
     "end_time": "2019-11-19T16:10:06.671226Z",
     "start_time": "2019-11-19T16:10:06.603224Z"
    }
   },
   "outputs": [
    {
     "name": "stdout",
     "output_type": "stream",
     "text": [
      "Random Forest Classifier:\n",
      "Accuracy: 0.7521367521367521\n",
      "Precision: 0.8295454545454546\n",
      "Recall: 0.8390804597701149\n",
      "F-1 score: 0.8342857142857142\n"
     ]
    }
   ],
   "source": [
    "rfc = RandomForestClassifier(n_estimators=40)\n",
    "\n",
    "rfc.fit(X_train, y_train)\n",
    "print('Random Forest Classifier:')\n",
    "print('Accuracy:', rfc.score(X_test, y_test))\n",
    "print('Precision:', precision_score(y_test, rfc.predict(X_test)))\n",
    "print('Recall:', recall_score(y_test, rfc.predict(X_test)))\n",
    "print('F-1 score:', f1_score(y_test, rfc.predict(X_test)))"
   ]
  },
  {
   "cell_type": "code",
   "execution_count": 15,
   "metadata": {
    "ExecuteTime": {
     "end_time": "2019-11-19T16:10:06.675226Z",
     "start_time": "2019-11-19T16:10:06.672225Z"
    }
   },
   "outputs": [
    {
     "data": {
      "text/plain": [
       "1.7320508075688772"
      ]
     },
     "execution_count": 15,
     "metadata": {},
     "output_type": "execute_result"
    }
   ],
   "source": [
    "sqrt(3)"
   ]
  },
  {
   "cell_type": "code",
   "execution_count": 16,
   "metadata": {
    "ExecuteTime": {
     "end_time": "2019-11-19T16:17:12.834710Z",
     "start_time": "2019-11-19T16:10:06.676226Z"
    }
   },
   "outputs": [
    {
     "name": "stdout",
     "output_type": "stream",
     "text": [
      "Fitting 5 folds for each of 1152 candidates, totalling 5760 fits\n"
     ]
    },
    {
     "name": "stderr",
     "output_type": "stream",
     "text": [
      "[Parallel(n_jobs=-1)]: Using backend LokyBackend with 6 concurrent workers.\n",
      "[Parallel(n_jobs=-1)]: Done  29 tasks      | elapsed:    3.3s\n",
      "[Parallel(n_jobs=-1)]: Done 150 tasks      | elapsed:   11.8s\n",
      "[Parallel(n_jobs=-1)]: Done 353 tasks      | elapsed:   25.6s\n",
      "[Parallel(n_jobs=-1)]: Done 636 tasks      | elapsed:   44.1s\n",
      "[Parallel(n_jobs=-1)]: Done 1001 tasks      | elapsed:  1.2min\n",
      "[Parallel(n_jobs=-1)]: Done 1446 tasks      | elapsed:  1.7min\n",
      "[Parallel(n_jobs=-1)]: Done 1973 tasks      | elapsed:  2.3min\n",
      "[Parallel(n_jobs=-1)]: Done 2580 tasks      | elapsed:  3.1min\n",
      "[Parallel(n_jobs=-1)]: Done 3269 tasks      | elapsed:  3.9min\n",
      "[Parallel(n_jobs=-1)]: Done 4038 tasks      | elapsed:  4.9min\n",
      "[Parallel(n_jobs=-1)]: Done 4889 tasks      | elapsed:  5.9min\n",
      "[Parallel(n_jobs=-1)]: Done 5760 out of 5760 | elapsed:  7.1min finished\n",
      "C:\\Users\\EN\\Anaconda3\\lib\\site-packages\\sklearn\\model_selection\\_search.py:814: DeprecationWarning: The default of the `iid` parameter will change from True to False in version 0.22 and will be removed in 0.24. This will change numeric results when test-set sizes are unequal.\n",
      "  DeprecationWarning)\n"
     ]
    }
   ],
   "source": [
    "rfc_ = RandomForestClassifier()\n",
    "hyperparameters = {'n_estimators': [100, 200, 300, 1000],\n",
    "                   'max_depth': [80, 90, 100, 110],\n",
    "                   'min_samples_split': [2,10,20,40,80,100],\n",
    "                   'min_samples_leaf': [2,10,20,40,80,100],\n",
    "                   'max_features': [2, 3]}\n",
    "\n",
    "gsrfc = GridSearchCV(rfc_, hyperparameters, cv=5, n_jobs=-1, verbose=2)\n",
    "\n",
    "best_gsrfc = gsrfc.fit(X_train, y_train)"
   ]
  },
  {
   "cell_type": "code",
   "execution_count": 17,
   "metadata": {
    "ExecuteTime": {
     "end_time": "2019-11-19T16:17:12.840710Z",
     "start_time": "2019-11-19T16:17:12.835710Z"
    }
   },
   "outputs": [
    {
     "data": {
      "text/plain": [
       "RandomForestClassifier(bootstrap=True, class_weight=None, criterion='gini',\n",
       "                       max_depth=90, max_features=3, max_leaf_nodes=None,\n",
       "                       min_impurity_decrease=0.0, min_impurity_split=None,\n",
       "                       min_samples_leaf=20, min_samples_split=100,\n",
       "                       min_weight_fraction_leaf=0.0, n_estimators=200,\n",
       "                       n_jobs=None, oob_score=False, random_state=None,\n",
       "                       verbose=0, warm_start=False)"
      ]
     },
     "execution_count": 17,
     "metadata": {},
     "output_type": "execute_result"
    }
   ],
   "source": [
    "best_gsrfc.best_estimator_"
   ]
  },
  {
   "cell_type": "code",
   "execution_count": 44,
   "metadata": {
    "ExecuteTime": {
     "end_time": "2019-11-19T16:26:22.733295Z",
     "start_time": "2019-11-19T16:26:22.489202Z"
    }
   },
   "outputs": [
    {
     "name": "stdout",
     "output_type": "stream",
     "text": [
      "Random Forest Classifier:\n",
      "Accuracy: 0.7692307692307693\n",
      "Precision: 0.7678571428571429\n",
      "Recall: 0.9885057471264368\n",
      "F-1 score: 0.864321608040201\n"
     ]
    }
   ],
   "source": [
    "rfc = RandomForestClassifier(bootstrap=True, class_weight=None, criterion='gini',\n",
    "                       max_depth=90, max_features=3, max_leaf_nodes=None,\n",
    "                       min_impurity_decrease=0.0, min_impurity_split=None,\n",
    "                       min_samples_leaf=20, min_samples_split=100,\n",
    "                       min_weight_fraction_leaf=0.0, n_estimators=200,\n",
    "                       n_jobs=None, oob_score=False, random_state=None,\n",
    "                       verbose=0, warm_start=False)\n",
    "\n",
    "rfc.fit(X_train, y_train)\n",
    "print('Random Forest Classifier:')\n",
    "print('Accuracy:', rfc.score(X_test, y_test))\n",
    "print('Precision:', precision_score(y_test, rfc.predict(X_test)))\n",
    "print('Recall:', recall_score(y_test, rfc.predict(X_test)))\n",
    "print('F-1 score:', f1_score(y_test, rfc.predict(X_test)))"
   ]
  },
  {
   "cell_type": "code",
   "execution_count": 45,
   "metadata": {
    "ExecuteTime": {
     "end_time": "2019-11-19T16:26:26.282965Z",
     "start_time": "2019-11-19T16:26:24.342887Z"
    }
   },
   "outputs": [
    {
     "data": {
      "text/plain": [
       "0.7067606919109579"
      ]
     },
     "execution_count": 45,
     "metadata": {},
     "output_type": "execute_result"
    }
   ],
   "source": [
    "cross_val_score(rfc, x, y, cv=10).mean()"
   ]
  },
  {
   "cell_type": "code",
   "execution_count": 46,
   "metadata": {
    "ExecuteTime": {
     "end_time": "2019-11-19T16:26:28.056090Z",
     "start_time": "2019-11-19T16:26:27.831544Z"
    }
   },
   "outputs": [
    {
     "name": "stdout",
     "output_type": "stream",
     "text": [
      "No Skill: ROC AUC=0.500\n",
      "Random Forest: ROC AUC=0.805\n"
     ]
    },
    {
     "data": {
      "text/plain": [
       "<matplotlib.legend.Legend at 0x19430526148>"
      ]
     },
     "execution_count": 46,
     "metadata": {},
     "output_type": "execute_result"
    },
    {
     "data": {
      "image/png": "[encoded data removed]",
      "text/plain": [
       "<Figure size 432x288 with 1 Axes>"
      ]
     },
     "metadata": {
      "needs_background": "light"
     },
     "output_type": "display_data"
    }
   ],
   "source": [
    "rfc_probs = rfc.predict_proba(X_test)\n",
    "rfc_probs = rfc_probs[:, 1]\n",
    "\n",
    "nd_probs = [0 for _ in range(len(y_test))]\n",
    "\n",
    "nd_auc = roc_auc_score(y_test, nd_probs)\n",
    "rfc_auc = roc_auc_score(y_test, rfc_probs)\n",
    "\n",
    "print('No Skill: ROC AUC=%.3f' % (nd_auc))\n",
    "print('Random Forest: ROC AUC=%.3f' % (rfc_auc))\n",
    "\n",
    "nd_fpr, nd_tpr, _ = roc_curve(y_test, nd_probs)\n",
    "rfc_fpr, rfc_tpr, _ = roc_curve(y_test, rfc_probs)\n",
    "\n",
    "plt.plot(nd_fpr, nd_tpr, linestyle='--', label='No Disease')\n",
    "plt.plot(rfc_fpr, rfc_tpr, marker='.', label='Random Forest')\n",
    "\n",
    "plt.xlabel('False Positive Rate')\n",
    "plt.ylabel('True Positive Rate')\n",
    "\n",
    "plt.legend()"
   ]
  },
  {
   "cell_type": "code",
   "execution_count": null,
   "metadata": {},
   "outputs": [],
   "source": []
  },
  {
   "cell_type": "markdown",
   "metadata": {},
   "source": [
    "#### KNN"
   ]
  },
  {
   "cell_type": "code",
   "execution_count": 21,
   "metadata": {
    "ExecuteTime": {
     "end_time": "2019-11-19T16:17:16.890741Z",
     "start_time": "2019-11-19T16:17:16.864741Z"
    }
   },
   "outputs": [
    {
     "name": "stdout",
     "output_type": "stream",
     "text": [
      "k-NN Classifier:\n",
      "Accuracy: 0.6837606837606838\n",
      "Precision: 0.7840909090909091\n",
      "Recall: 0.7931034482758621\n",
      "F-1 score: 0.7885714285714285\n"
     ]
    }
   ],
   "source": [
    "knn = KNeighborsClassifier(n_neighbors=5)\n",
    "\n",
    "knn.fit(X_train, y_train)\n",
    "print('k-NN Classifier:')\n",
    "print('Accuracy:', knn.score(X_test, y_test))\n",
    "print('Precision:', precision_score(y_test, knn.predict(X_test)))\n",
    "print('Recall:', recall_score(y_test, knn.predict(X_test)))\n",
    "print('F-1 score:', f1_score(y_test, knn.predict(X_test)))"
   ]
  },
  {
   "cell_type": "code",
   "execution_count": null,
   "metadata": {},
   "outputs": [],
   "source": []
  },
  {
   "cell_type": "code",
   "execution_count": 22,
   "metadata": {
    "ExecuteTime": {
     "end_time": "2019-11-19T16:17:18.195778Z",
     "start_time": "2019-11-19T16:17:16.891741Z"
    }
   },
   "outputs": [
    {
     "name": "stdout",
     "output_type": "stream",
     "text": [
      "The optimal number of neighbors is 11\n"
     ]
    },
    {
     "data": {
      "image/png": "[encoded data removed]",
      "text/plain": [
       "<Figure size 432x288 with 1 Axes>"
      ]
     },
     "metadata": {
      "needs_background": "light"
     },
     "output_type": "display_data"
    }
   ],
   "source": [
    "neighbors = list(range(1, 50, 2))\n",
    "cv_scores = []\n",
    "\n",
    "for k in neighbors:\n",
    "    knn_t = KNeighborsClassifier(n_neighbors=k)\n",
    "    scores = cross_val_score(knn_t, X_train, y_train, cv=10, scoring='f1_weighted')\n",
    "    cv_scores.append(scores.mean())\n",
    "\n",
    "mse = [1 - x for x in cv_scores]\n",
    "\n",
    "optimal_k = neighbors[mse.index(min(mse))]\n",
    "print('The optimal number of neighbors is {}'.format(optimal_k))\n",
    "\n",
    "plt.plot(neighbors, mse)\n",
    "plt.xlabel('Number of Neighbors K')\n",
    "plt.ylabel('Misclassification Error')\n",
    "plt.show()"
   ]
  },
  {
   "cell_type": "code",
   "execution_count": null,
   "metadata": {},
   "outputs": [],
   "source": []
  },
  {
   "cell_type": "code",
   "execution_count": 23,
   "metadata": {
    "ExecuteTime": {
     "end_time": "2019-11-19T16:17:18.225779Z",
     "start_time": "2019-11-19T16:17:18.198777Z"
    }
   },
   "outputs": [
    {
     "name": "stdout",
     "output_type": "stream",
     "text": [
      "k-NN Classifier:\n",
      "Accuracy: 0.7094017094017094\n",
      "Precision: 0.7731958762886598\n",
      "Recall: 0.8620689655172413\n",
      "F-1 score: 0.8152173913043478\n"
     ]
    }
   ],
   "source": [
    "knn = KNeighborsClassifier(n_neighbors=11)\n",
    "\n",
    "knn.fit(X_train, y_train)\n",
    "print('k-NN Classifier:')\n",
    "print('Accuracy:', knn.score(X_test, y_test))\n",
    "print('Precision:', precision_score(y_test, knn.predict(X_test)))\n",
    "print('Recall:', recall_score(y_test, knn.predict(X_test)))\n",
    "print('F-1 score:', f1_score(y_test, knn.predict(X_test)))"
   ]
  },
  {
   "cell_type": "code",
   "execution_count": 24,
   "metadata": {
    "ExecuteTime": {
     "end_time": "2019-11-19T16:17:18.278781Z",
     "start_time": "2019-11-19T16:17:18.227778Z"
    }
   },
   "outputs": [
    {
     "data": {
      "text/plain": [
       "0.6874937196878813"
      ]
     },
     "execution_count": 24,
     "metadata": {},
     "output_type": "execute_result"
    }
   ],
   "source": [
    "cross_val_score(KNeighborsClassifier(n_neighbors=11), x, y, cv=10, scoring='accuracy').mean()"
   ]
  },
  {
   "cell_type": "code",
   "execution_count": 25,
   "metadata": {
    "ExecuteTime": {
     "end_time": "2019-11-19T16:17:18.513777Z",
     "start_time": "2019-11-19T16:17:18.280793Z"
    }
   },
   "outputs": [
    {
     "name": "stdout",
     "output_type": "stream",
     "text": [
      "No Disease: ROC AUC=0.500\n",
      "KNN: ROC AUC=0.687\n"
     ]
    },
    {
     "data": {
      "text/plain": [
       "<matplotlib.legend.Legend at 0x194302c6a88>"
      ]
     },
     "execution_count": 25,
     "metadata": {},
     "output_type": "execute_result"
    },
    {
     "data": {
      "image/png": "[encoded data removed]",
      "text/plain": [
       "<Figure size 432x288 with 1 Axes>"
      ]
     },
     "metadata": {
      "needs_background": "light"
     },
     "output_type": "display_data"
    }
   ],
   "source": [
    "knn_probs = knn.predict_proba(X_test)\n",
    "knn_probs = knn_probs[:, 1]\n",
    "\n",
    "nd_probs = [0 for _ in range(len(y_test))]\n",
    "\n",
    "nd_auc = roc_auc_score(y_test, nd_probs)\n",
    "knn_auc = roc_auc_score(y_test, knn_probs)\n",
    "\n",
    "print('No Disease: ROC AUC=%.3f' % (nd_auc))\n",
    "print('KNN: ROC AUC=%.3f' % (knn_auc))\n",
    "\n",
    "nd_fpr, nd_tpr, _ = roc_curve(y_test, nd_probs)\n",
    "knn_fpr, knn_tpr, _ = roc_curve(y_test, knn_probs)\n",
    "\n",
    "plt.plot(nd_fpr, nd_tpr, linestyle='--', label='No Disease')\n",
    "plt.plot(knn_fpr, knn_tpr, marker='.', label='KNN')\n",
    "\n",
    "plt.xlabel('False Positive Rate')\n",
    "plt.ylabel('True Positive Rate')\n",
    "\n",
    "plt.legend()"
   ]
  },
  {
   "cell_type": "code",
   "execution_count": null,
   "metadata": {},
   "outputs": [],
   "source": []
  },
  {
   "cell_type": "markdown",
   "metadata": {},
   "source": [
    "#### SVC"
   ]
  },
  {
   "cell_type": "code",
   "execution_count": 26,
   "metadata": {
    "ExecuteTime": {
     "end_time": "2019-11-19T16:17:18.591801Z",
     "start_time": "2019-11-19T16:17:18.514777Z"
    }
   },
   "outputs": [
    {
     "name": "stdout",
     "output_type": "stream",
     "text": [
      "SVC:\n",
      "Accuracy: 0.7435897435897436\n",
      "Precision: 0.7435897435897436\n",
      "Recall: 1.0\n",
      "F-1 score: 0.8529411764705882\n"
     ]
    }
   ],
   "source": [
    "svm = SVC(gamma='auto', probability=True)\n",
    "\n",
    "svm.fit(X_train, y_train)\n",
    "print('SVC:')\n",
    "print('Accuracy:', svm.score(X_test, y_test))\n",
    "print('Precision:', precision_score(y_test, svm.predict(X_test)))\n",
    "print('Recall:', recall_score(y_test, svm.predict(X_test)))\n",
    "print('F-1 score:', f1_score(y_test, svm.predict(X_test)))"
   ]
  },
  {
   "cell_type": "code",
   "execution_count": 27,
   "metadata": {
    "ExecuteTime": {
     "end_time": "2019-11-19T16:17:19.334777Z",
     "start_time": "2019-11-19T16:17:18.592780Z"
    }
   },
   "outputs": [
    {
     "data": {
      "text/plain": [
       "0.7135977729244208"
      ]
     },
     "execution_count": 27,
     "metadata": {},
     "output_type": "execute_result"
    }
   ],
   "source": [
    "cross_val_score(svm, x, y, cv=10).mean()"
   ]
  },
  {
   "cell_type": "code",
   "execution_count": 28,
   "metadata": {
    "ExecuteTime": {
     "end_time": "2019-11-19T16:17:21.535777Z",
     "start_time": "2019-11-19T16:17:19.335777Z"
    }
   },
   "outputs": [
    {
     "name": "stdout",
     "output_type": "stream",
     "text": [
      "Fitting 5 folds for each of 20 candidates, totalling 100 fits\n"
     ]
    },
    {
     "name": "stderr",
     "output_type": "stream",
     "text": [
      "[Parallel(n_jobs=-1)]: Using backend LokyBackend with 6 concurrent workers.\n",
      "[Parallel(n_jobs=-1)]: Done  29 tasks      | elapsed:    1.7s\n",
      "[Parallel(n_jobs=-1)]: Done 100 out of 100 | elapsed:    1.8s finished\n",
      "C:\\Users\\EN\\Anaconda3\\lib\\site-packages\\sklearn\\model_selection\\_search.py:814: DeprecationWarning: The default of the `iid` parameter will change from True to False in version 0.22 and will be removed in 0.24. This will change numeric results when test-set sizes are unequal.\n",
      "  DeprecationWarning)\n"
     ]
    }
   ],
   "source": [
    "svc_ = SVC()\n",
    "\n",
    "hyperparameters = {'C': [0.001, 0.01, 0.1, 1, 10],\n",
    "                   'gamma' : [0.001, 0.01, 0.1, 1]}\n",
    "\n",
    "gssvc = GridSearchCV(svc_, hyperparameters, cv=5, n_jobs=-1, verbose=2)\n",
    "\n",
    "best_gssvc = gssvc.fit(X_train, y_train)"
   ]
  },
  {
   "cell_type": "code",
   "execution_count": 29,
   "metadata": {
    "ExecuteTime": {
     "end_time": "2019-11-19T16:17:21.540777Z",
     "start_time": "2019-11-19T16:17:21.536777Z"
    }
   },
   "outputs": [
    {
     "data": {
      "text/plain": [
       "SVC(C=1, cache_size=200, class_weight=None, coef0=0.0,\n",
       "    decision_function_shape='ovr', degree=3, gamma=0.01, kernel='rbf',\n",
       "    max_iter=-1, probability=False, random_state=None, shrinking=True,\n",
       "    tol=0.001, verbose=False)"
      ]
     },
     "execution_count": 29,
     "metadata": {},
     "output_type": "execute_result"
    }
   ],
   "source": [
    "best_gssvc.best_estimator_"
   ]
  },
  {
   "cell_type": "code",
   "execution_count": 30,
   "metadata": {
    "ExecuteTime": {
     "end_time": "2019-11-19T16:17:21.601777Z",
     "start_time": "2019-11-19T16:17:21.541777Z"
    }
   },
   "outputs": [
    {
     "name": "stdout",
     "output_type": "stream",
     "text": [
      "SVC:\n",
      "Accuracy: 0.7264957264957265\n",
      "Precision: 0.7619047619047619\n",
      "Recall: 0.9195402298850575\n",
      "F-1 score: 0.8333333333333334\n"
     ]
    }
   ],
   "source": [
    "svm = SVC(C=1, cache_size=200, class_weight=None, coef0=0.0,\n",
    "    decision_function_shape='ovr', degree=3, gamma=0.01, kernel='rbf',\n",
    "    max_iter=-1, probability=True, random_state=None, shrinking=True,\n",
    "    tol=0.001, verbose=False)\n",
    "\n",
    "svm.fit(X_train, y_train)\n",
    "print('SVC:')\n",
    "print('Accuracy:', svm.score(X_test, y_test))\n",
    "print('Precision:', precision_score(y_test, svm.predict(X_test)))\n",
    "print('Recall:', recall_score(y_test, svm.predict(X_test)))\n",
    "print('F-1 score:', f1_score(y_test, svm.predict(X_test)))"
   ]
  },
  {
   "cell_type": "code",
   "execution_count": 31,
   "metadata": {
    "ExecuteTime": {
     "end_time": "2019-11-19T16:17:22.167777Z",
     "start_time": "2019-11-19T16:17:21.602777Z"
    }
   },
   "outputs": [
    {
     "data": {
      "text/plain": [
       "0.7170773221774482"
      ]
     },
     "execution_count": 31,
     "metadata": {},
     "output_type": "execute_result"
    }
   ],
   "source": [
    "cross_val_score(svm, x, y, cv=10).mean()"
   ]
  },
  {
   "cell_type": "code",
   "execution_count": 32,
   "metadata": {
    "ExecuteTime": {
     "end_time": "2019-11-19T16:17:22.372800Z",
     "start_time": "2019-11-19T16:17:22.168777Z"
    }
   },
   "outputs": [
    {
     "name": "stdout",
     "output_type": "stream",
     "text": [
      "No Disease: ROC AUC=0.500\n",
      "SVC: ROC AUC=0.616\n"
     ]
    },
    {
     "data": {
      "text/plain": [
       "<matplotlib.legend.Legend at 0x194303c7208>"
      ]
     },
     "execution_count": 32,
     "metadata": {},
     "output_type": "execute_result"
    },
    {
     "data": {
      "image/png": "[encoded data removed]",
      "text/plain": [
       "<Figure size 432x288 with 1 Axes>"
      ]
     },
     "metadata": {
      "needs_background": "light"
     },
     "output_type": "display_data"
    }
   ],
   "source": [
    "svc_probs = svm.predict_proba(X_test)\n",
    "svc_probs = svc_probs[:, 1]\n",
    "\n",
    "nd_probs = [0 for _ in range(len(y_test))]\n",
    "\n",
    "nd_auc = roc_auc_score(y_test, nd_probs)\n",
    "svc_auc = roc_auc_score(y_test, svc_probs)\n",
    "\n",
    "print('No Disease: ROC AUC=%.3f' % (nd_auc))\n",
    "print('SVC: ROC AUC=%.3f' % (svc_auc))\n",
    "\n",
    "nd_fpr, nd_tpr, _ = roc_curve(y_test, nd_probs)\n",
    "svc_fpr, svc_tpr, _ = roc_curve(y_test, svc_probs)\n",
    "\n",
    "plt.plot(nd_fpr, nd_tpr, linestyle='--', label='No Disease')\n",
    "plt.plot(svc_fpr, svc_tpr, marker='.', label='SVC')\n",
    "\n",
    "plt.xlabel('False Positive Rate')\n",
    "plt.ylabel('True Positive Rate')\n",
    "\n",
    "plt.legend()"
   ]
  },
  {
   "cell_type": "code",
   "execution_count": null,
   "metadata": {},
   "outputs": [],
   "source": []
  },
  {
   "cell_type": "code",
   "execution_count": null,
   "metadata": {},
   "outputs": [],
   "source": []
  },
  {
   "cell_type": "markdown",
   "metadata": {},
   "source": [
    "#### comparing model (after hyperparam tuning)"
   ]
  },
  {
   "cell_type": "code",
   "execution_count": 33,
   "metadata": {
    "ExecuteTime": {
     "end_time": "2019-11-19T16:17:26.385048Z",
     "start_time": "2019-11-19T16:17:22.373801Z"
    }
   },
   "outputs": [
    {
     "data": {
      "text/html": [
       "<div>\n",
       "<style scoped>\n",
       "    .dataframe tbody tr th:only-of-type {\n",
       "        vertical-align: middle;\n",
       "    }\n",
       "\n",
       "    .dataframe tbody tr th {\n",
       "        vertical-align: top;\n",
       "    }\n",
       "\n",
       "    .dataframe thead th {\n",
       "        text-align: right;\n",
       "    }\n",
       "</style>\n",
       "<table border=\"1\" class=\"dataframe\">\n",
       "  <thead>\n",
       "    <tr style=\"text-align: right;\">\n",
       "      <th></th>\n",
       "      <th>model</th>\n",
       "      <th>Accuracy</th>\n",
       "      <th>Precision</th>\n",
       "      <th>Recall</th>\n",
       "      <th>F-1 score</th>\n",
       "      <th>Cross Val Score</th>\n",
       "    </tr>\n",
       "  </thead>\n",
       "  <tbody>\n",
       "    <tr>\n",
       "      <th>0</th>\n",
       "      <td>logistic regression</td>\n",
       "      <td>0.743590</td>\n",
       "      <td>0.743590</td>\n",
       "      <td>1.000000</td>\n",
       "      <td>0.852941</td>\n",
       "      <td>0.713598</td>\n",
       "    </tr>\n",
       "    <tr>\n",
       "      <th>1</th>\n",
       "      <td>rfc</td>\n",
       "      <td>0.735043</td>\n",
       "      <td>0.791667</td>\n",
       "      <td>0.873563</td>\n",
       "      <td>0.830601</td>\n",
       "      <td>0.727186</td>\n",
       "    </tr>\n",
       "    <tr>\n",
       "      <th>2</th>\n",
       "      <td>knn</td>\n",
       "      <td>0.709402</td>\n",
       "      <td>0.773196</td>\n",
       "      <td>0.862069</td>\n",
       "      <td>0.815217</td>\n",
       "      <td>0.687494</td>\n",
       "    </tr>\n",
       "    <tr>\n",
       "      <th>3</th>\n",
       "      <td>svc</td>\n",
       "      <td>0.726496</td>\n",
       "      <td>0.761905</td>\n",
       "      <td>0.919540</td>\n",
       "      <td>0.833333</td>\n",
       "      <td>0.717077</td>\n",
       "    </tr>\n",
       "  </tbody>\n",
       "</table>\n",
       "</div>"
      ],
      "text/plain": [
       "                 model  Accuracy  Precision    Recall  F-1 score  \\\n",
       "0  logistic regression  0.743590   0.743590  1.000000   0.852941   \n",
       "1                  rfc  0.735043   0.791667  0.873563   0.830601   \n",
       "2                  knn  0.709402   0.773196  0.862069   0.815217   \n",
       "3                  svc  0.726496   0.761905  0.919540   0.833333   \n",
       "\n",
       "   Cross Val Score  \n",
       "0         0.713598  \n",
       "1         0.727186  \n",
       "2         0.687494  \n",
       "3         0.717077  "
      ]
     },
     "execution_count": 33,
     "metadata": {},
     "output_type": "execute_result"
    }
   ],
   "source": [
    "a = [['logistic regression',model_lr.score(X_test, y_test),precision_score(y_test, model_lr.predict(X_test)), recall_score(y_test, model_lr.predict(X_test)),f1_score(y_test, model_lr.predict(X_test)), cross_val_score(model_lr, x, y, cv=10).mean()],\n",
    "     ['rfc', rfc.score(X_test, y_test),precision_score(y_test, rfc.predict(X_test)),recall_score(y_test, rfc.predict(X_test)),f1_score(y_test, rfc.predict(X_test)), cross_val_score(rfc, x, y, cv=10).mean()],\n",
    "     ['knn', knn.score(X_test, y_test), precision_score(y_test, knn.predict(X_test)),recall_score(y_test, knn.predict(X_test)), f1_score(y_test, knn.predict(X_test)), cross_val_score(knn, x, y, cv=10).mean()],\n",
    "     ['svc', svm.score(X_test, y_test), precision_score(y_test, svm.predict(X_test)),recall_score(y_test, svm.predict(X_test)), f1_score(y_test, svm.predict(X_test)), cross_val_score(svm, x, y, cv=10).mean()]\n",
    "     ]\n",
    "\n",
    "dfcompare = pd.DataFrame(a, columns=['model', 'Accuracy','Precision','Recall','F-1 score','Cross Val Score'])\n",
    "dfcompare\n"
   ]
  },
  {
   "cell_type": "code",
   "execution_count": 34,
   "metadata": {
    "ExecuteTime": {
     "end_time": "2019-11-19T16:17:26.392037Z",
     "start_time": "2019-11-19T16:17:26.386037Z"
    }
   },
   "outputs": [
    {
     "data": {
      "text/plain": [
       "1    416\n",
       "0    167\n",
       "Name: Dataset, dtype: int64"
      ]
     },
     "execution_count": 34,
     "metadata": {},
     "output_type": "execute_result"
    }
   ],
   "source": [
    "y.value_counts()"
   ]
  },
  {
   "cell_type": "markdown",
   "metadata": {},
   "source": [
    "Dari pengujian tersebut dan feature 'dataset' (disease or not) yang tidak seimbang (imbalance) saya memutuskan untuk memilih menggunakan random forest, karena nilai f-1 score-nya paling tinggi dan roc auc score-nya tinggi, serta bentuk plot roc auc score-nya paling baik (cenderung di atas 0.5 / true positif) di antara model lainnya."
   ]
  },
  {
   "cell_type": "code",
   "execution_count": 47,
   "metadata": {
    "ExecuteTime": {
     "end_time": "2019-11-19T16:26:53.784872Z",
     "start_time": "2019-11-19T16:26:53.774876Z"
    }
   },
   "outputs": [],
   "source": [
    "import pickle\n",
    "\n",
    "pickle.dump(rfc, open('model_ilp', 'wb'))"
   ]
  },
  {
   "cell_type": "code",
   "execution_count": 48,
   "metadata": {
    "ExecuteTime": {
     "end_time": "2019-11-19T16:26:54.748851Z",
     "start_time": "2019-11-19T16:26:54.734851Z"
    }
   },
   "outputs": [],
   "source": [
    "loadModel = pickle.load(open('model_ilp', 'rb'))"
   ]
  },
  {
   "cell_type": "code",
   "execution_count": 49,
   "metadata": {
    "ExecuteTime": {
     "end_time": "2019-11-19T16:26:55.693396Z",
     "start_time": "2019-11-19T16:26:55.689387Z"
    }
   },
   "outputs": [
    {
     "data": {
      "text/plain": [
       "RandomForestClassifier(bootstrap=True, class_weight=None, criterion='gini',\n",
       "                       max_depth=90, max_features=3, max_leaf_nodes=None,\n",
       "                       min_impurity_decrease=0.0, min_impurity_split=None,\n",
       "                       min_samples_leaf=20, min_samples_split=100,\n",
       "                       min_weight_fraction_leaf=0.0, n_estimators=200,\n",
       "                       n_jobs=None, oob_score=False, random_state=None,\n",
       "                       verbose=0, warm_start=False)"
      ]
     },
     "execution_count": 49,
     "metadata": {},
     "output_type": "execute_result"
    }
   ],
   "source": [
    "loadModel"
   ]
  },
  {
   "cell_type": "code",
   "execution_count": null,
   "metadata": {},
   "outputs": [],
   "source": []
  }
 ],
 "metadata": {
  "kernelspec": {
   "display_name": "Python 3",
   "language": "python",
   "name": "python3"
  },
  "language_info": {
   "codemirror_mode": {
    "name": "ipython",
    "version": 3
   },
   "file_extension": ".py",
   "mimetype": "text/x-python",
   "name": "python",
   "nbconvert_exporter": "python",
   "pygments_lexer": "ipython3",
   "version": "3.7.5"
  },
  "varInspector": {
   "cols": {
    "lenName": 16,
    "lenType": 16,
    "lenVar": 40
   },
   "kernels_config": {
    "python": {
     "delete_cmd_postfix": "",
     "delete_cmd_prefix": "del ",
     "library": "var_list.py",
     "varRefreshCmd": "print(var_dic_list())"
    },
    "r": {
     "delete_cmd_postfix": ") ",
     "delete_cmd_prefix": "rm(",
     "library": "var_list.r",
     "varRefreshCmd": "cat(var_dic_list()) "
    }
   },
   "types_to_exclude": [
    "module",
    "function",
    "builtin_function_or_method",
    "instance",
    "_Feature"
   ],
   "window_display": false
  }
 },
 "nbformat": 4,
 "nbformat_minor": 2
}
